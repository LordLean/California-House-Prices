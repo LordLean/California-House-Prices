{
  "nbformat": 4,
  "nbformat_minor": 0,
  "metadata": {
    "colab": {
      "name": "house_prices.ipynb",
      "provenance": [],
      "collapsed_sections": [
        "xRLhMD7syCEk",
        "7-itgkm9Jj44"
      ],
      "authorship_tag": "ABX9TyMw0pWzlvwrzYWIDEJh6jHP",
      "include_colab_link": true
    },
    "kernelspec": {
      "name": "python3",
      "display_name": "Python 3"
    },
    "language_info": {
      "name": "python"
    },
    "accelerator": "TPU"
  },
  "cells": [
    {
      "cell_type": "markdown",
      "metadata": {
        "id": "view-in-github",
        "colab_type": "text"
      },
      "source": [
        "<a href=\"https://colab.research.google.com/github/LordLean/California-House-Prices/blob/main/house_prices.ipynb\" target=\"_parent\"><img src=\"https://colab.research.google.com/assets/colab-badge.svg\" alt=\"Open In Colab\"/></a>"
      ]
    },
    {
      "cell_type": "markdown",
      "metadata": {
        "id": "eJHj_-v1yGQ4"
      },
      "source": [
        "# Imports"
      ]
    },
    {
      "cell_type": "code",
      "metadata": {
        "id": "WCXTJAfBn-wF"
      },
      "source": [
        "import pandas as pd\n",
        "import numpy as np \n",
        "import matplotlib.pyplot as plt\n",
        "import seaborn as sns\n",
        "import pickle"
      ],
      "execution_count": null,
      "outputs": []
    },
    {
      "cell_type": "markdown",
      "metadata": {
        "id": "xRLhMD7syCEk"
      },
      "source": [
        "# Load Data"
      ]
    },
    {
      "cell_type": "code",
      "metadata": {
        "colab": {
          "base_uri": "https://localhost:8080/"
        },
        "id": "rvTYCFDzpTpr",
        "outputId": "7ea5436f-b945-42f3-ea24-cf4dca5eb68c"
      },
      "source": [
        "!wget https://raw.githubusercontent.com/LordLean/California-House-Prices/main/housing.csv"
      ],
      "execution_count": null,
      "outputs": [
        {
          "output_type": "stream",
          "name": "stdout",
          "text": [
            "--2021-11-19 14:48:28--  https://raw.githubusercontent.com/LordLean/California-House-Prices/main/housing.csv\n",
            "Resolving raw.githubusercontent.com (raw.githubusercontent.com)... 185.199.108.133, 185.199.109.133, 185.199.110.133, ...\n",
            "Connecting to raw.githubusercontent.com (raw.githubusercontent.com)|185.199.108.133|:443... connected.\n",
            "HTTP request sent, awaiting response... 200 OK\n",
            "Length: 1159215 (1.1M) [text/plain]\n",
            "Saving to: ‘housing.csv’\n",
            "\n",
            "housing.csv         100%[===================>]   1.11M  --.-KB/s    in 0.05s   \n",
            "\n",
            "2021-11-19 14:48:28 (21.6 MB/s) - ‘housing.csv’ saved [1159215/1159215]\n",
            "\n"
          ]
        }
      ]
    },
    {
      "cell_type": "markdown",
      "metadata": {
        "id": "yryiGEXDyLHV"
      },
      "source": [
        "# EDA"
      ]
    },
    {
      "cell_type": "code",
      "metadata": {
        "id": "0LRbFEwULa4c"
      },
      "source": [
        "df = pd.read_csv('housing.csv', index_col=None)"
      ],
      "execution_count": null,
      "outputs": []
    },
    {
      "cell_type": "code",
      "metadata": {
        "colab": {
          "base_uri": "https://localhost:8080/"
        },
        "id": "tgmMH7nwqAfj",
        "outputId": "f05e44da-625d-4d4b-cd15-e89d4d1e730e"
      },
      "source": [
        "df.info()"
      ],
      "execution_count": null,
      "outputs": [
        {
          "output_type": "stream",
          "name": "stdout",
          "text": [
            "<class 'pandas.core.frame.DataFrame'>\n",
            "RangeIndex: 16512 entries, 0 to 16511\n",
            "Data columns (total 10 columns):\n",
            " #   Column              Non-Null Count  Dtype  \n",
            "---  ------              --------------  -----  \n",
            " 0   longitude           16512 non-null  float64\n",
            " 1   latitude            16512 non-null  float64\n",
            " 2   housing_median_age  16512 non-null  float64\n",
            " 3   total_rooms         16512 non-null  float64\n",
            " 4   total_bedrooms      16344 non-null  float64\n",
            " 5   population          16512 non-null  float64\n",
            " 6   households          16512 non-null  float64\n",
            " 7   median_income       16512 non-null  float64\n",
            " 8   ocean_proximity     16512 non-null  object \n",
            " 9   median_house_value  16512 non-null  float64\n",
            "dtypes: float64(9), object(1)\n",
            "memory usage: 1.3+ MB\n"
          ]
        }
      ]
    },
    {
      "cell_type": "code",
      "metadata": {
        "colab": {
          "base_uri": "https://localhost:8080/"
        },
        "id": "CL-zGozux_gb",
        "outputId": "4357f123-9fdd-4f2c-810f-de4b20a8ddae"
      },
      "source": [
        "print(df.isnull().sum())\n",
        "# Drop rows with NaN values.\n",
        "df.dropna(inplace=True)\n",
        "df.reset_index(drop=True, inplace=True)"
      ],
      "execution_count": null,
      "outputs": [
        {
          "output_type": "stream",
          "name": "stdout",
          "text": [
            "longitude               0\n",
            "latitude                0\n",
            "housing_median_age      0\n",
            "total_rooms             0\n",
            "total_bedrooms        168\n",
            "population              0\n",
            "households              0\n",
            "median_income           0\n",
            "ocean_proximity         0\n",
            "median_house_value      0\n",
            "dtype: int64\n"
          ]
        }
      ]
    },
    {
      "cell_type": "code",
      "metadata": {
        "colab": {
          "base_uri": "https://localhost:8080/",
          "height": 314
        },
        "id": "Du4cYEgmqGq0",
        "outputId": "c76df6d3-1ebb-4ce4-b599-1454d2cb19c3"
      },
      "source": [
        "df.describe()"
      ],
      "execution_count": null,
      "outputs": [
        {
          "output_type": "execute_result",
          "data": {
            "text/html": [
              "<div>\n",
              "<style scoped>\n",
              "    .dataframe tbody tr th:only-of-type {\n",
              "        vertical-align: middle;\n",
              "    }\n",
              "\n",
              "    .dataframe tbody tr th {\n",
              "        vertical-align: top;\n",
              "    }\n",
              "\n",
              "    .dataframe thead th {\n",
              "        text-align: right;\n",
              "    }\n",
              "</style>\n",
              "<table border=\"1\" class=\"dataframe\">\n",
              "  <thead>\n",
              "    <tr style=\"text-align: right;\">\n",
              "      <th></th>\n",
              "      <th>longitude</th>\n",
              "      <th>latitude</th>\n",
              "      <th>housing_median_age</th>\n",
              "      <th>total_rooms</th>\n",
              "      <th>total_bedrooms</th>\n",
              "      <th>population</th>\n",
              "      <th>households</th>\n",
              "      <th>median_income</th>\n",
              "      <th>median_house_value</th>\n",
              "    </tr>\n",
              "  </thead>\n",
              "  <tbody>\n",
              "    <tr>\n",
              "      <th>count</th>\n",
              "      <td>16344.000000</td>\n",
              "      <td>16344.000000</td>\n",
              "      <td>16344.000000</td>\n",
              "      <td>16344.000000</td>\n",
              "      <td>16344.000000</td>\n",
              "      <td>16344.000000</td>\n",
              "      <td>16344.000000</td>\n",
              "      <td>16344.000000</td>\n",
              "      <td>16344.000000</td>\n",
              "    </tr>\n",
              "    <tr>\n",
              "      <th>mean</th>\n",
              "      <td>-119.560505</td>\n",
              "      <td>35.618924</td>\n",
              "      <td>28.664219</td>\n",
              "      <td>2639.549009</td>\n",
              "      <td>538.522026</td>\n",
              "      <td>1424.693771</td>\n",
              "      <td>499.759178</td>\n",
              "      <td>3.873539</td>\n",
              "      <td>207291.292523</td>\n",
              "    </tr>\n",
              "    <tr>\n",
              "      <th>std</th>\n",
              "      <td>2.003196</td>\n",
              "      <td>2.134194</td>\n",
              "      <td>12.616550</td>\n",
              "      <td>2201.921714</td>\n",
              "      <td>425.256071</td>\n",
              "      <td>1147.745539</td>\n",
              "      <td>385.199342</td>\n",
              "      <td>1.911920</td>\n",
              "      <td>115719.523632</td>\n",
              "    </tr>\n",
              "    <tr>\n",
              "      <th>min</th>\n",
              "      <td>-124.350000</td>\n",
              "      <td>32.540000</td>\n",
              "      <td>1.000000</td>\n",
              "      <td>2.000000</td>\n",
              "      <td>1.000000</td>\n",
              "      <td>3.000000</td>\n",
              "      <td>1.000000</td>\n",
              "      <td>0.499900</td>\n",
              "      <td>14999.000000</td>\n",
              "    </tr>\n",
              "    <tr>\n",
              "      <th>25%</th>\n",
              "      <td>-121.780000</td>\n",
              "      <td>33.930000</td>\n",
              "      <td>18.000000</td>\n",
              "      <td>1447.000000</td>\n",
              "      <td>295.000000</td>\n",
              "      <td>788.000000</td>\n",
              "      <td>280.000000</td>\n",
              "      <td>2.562500</td>\n",
              "      <td>120000.000000</td>\n",
              "    </tr>\n",
              "    <tr>\n",
              "      <th>50%</th>\n",
              "      <td>-118.490000</td>\n",
              "      <td>34.250000</td>\n",
              "      <td>29.000000</td>\n",
              "      <td>2121.000000</td>\n",
              "      <td>435.000000</td>\n",
              "      <td>1165.000000</td>\n",
              "      <td>410.000000</td>\n",
              "      <td>3.535250</td>\n",
              "      <td>179800.000000</td>\n",
              "    </tr>\n",
              "    <tr>\n",
              "      <th>75%</th>\n",
              "      <td>-118.000000</td>\n",
              "      <td>37.710000</td>\n",
              "      <td>37.000000</td>\n",
              "      <td>3139.250000</td>\n",
              "      <td>647.000000</td>\n",
              "      <td>1715.000000</td>\n",
              "      <td>603.000000</td>\n",
              "      <td>4.740850</td>\n",
              "      <td>264600.000000</td>\n",
              "    </tr>\n",
              "    <tr>\n",
              "      <th>max</th>\n",
              "      <td>-114.310000</td>\n",
              "      <td>41.950000</td>\n",
              "      <td>52.000000</td>\n",
              "      <td>39320.000000</td>\n",
              "      <td>6445.000000</td>\n",
              "      <td>35682.000000</td>\n",
              "      <td>6082.000000</td>\n",
              "      <td>15.000100</td>\n",
              "      <td>500001.000000</td>\n",
              "    </tr>\n",
              "  </tbody>\n",
              "</table>\n",
              "</div>"
            ],
            "text/plain": [
              "          longitude      latitude  ...  median_income  median_house_value\n",
              "count  16344.000000  16344.000000  ...   16344.000000        16344.000000\n",
              "mean    -119.560505     35.618924  ...       3.873539       207291.292523\n",
              "std        2.003196      2.134194  ...       1.911920       115719.523632\n",
              "min     -124.350000     32.540000  ...       0.499900        14999.000000\n",
              "25%     -121.780000     33.930000  ...       2.562500       120000.000000\n",
              "50%     -118.490000     34.250000  ...       3.535250       179800.000000\n",
              "75%     -118.000000     37.710000  ...       4.740850       264600.000000\n",
              "max     -114.310000     41.950000  ...      15.000100       500001.000000\n",
              "\n",
              "[8 rows x 9 columns]"
            ]
          },
          "metadata": {},
          "execution_count": 6
        }
      ]
    },
    {
      "cell_type": "code",
      "metadata": {
        "colab": {
          "base_uri": "https://localhost:8080/",
          "height": 1000
        },
        "id": "0YHXmzQNqN9T",
        "outputId": "f3af1116-419a-4bca-8fb2-5fbc8414b35d"
      },
      "source": [
        "df.hist(bins=20,figsize=(20,20))"
      ],
      "execution_count": null,
      "outputs": [
        {
          "output_type": "execute_result",
          "data": {
            "text/plain": [
              "array([[<matplotlib.axes._subplots.AxesSubplot object at 0x7f98439b46d0>,\n",
              "        <matplotlib.axes._subplots.AxesSubplot object at 0x7f984390da90>,\n",
              "        <matplotlib.axes._subplots.AxesSubplot object at 0x7f984393cb50>],\n",
              "       [<matplotlib.axes._subplots.AxesSubplot object at 0x7f9843905690>,\n",
              "        <matplotlib.axes._subplots.AxesSubplot object at 0x7f98438bdc90>,\n",
              "        <matplotlib.axes._subplots.AxesSubplot object at 0x7f9843882250>],\n",
              "       [<matplotlib.axes._subplots.AxesSubplot object at 0x7f98438378d0>,\n",
              "        <matplotlib.axes._subplots.AxesSubplot object at 0x7f98437edd90>,\n",
              "        <matplotlib.axes._subplots.AxesSubplot object at 0x7f98437eddd0>]],\n",
              "      dtype=object)"
            ]
          },
          "metadata": {},
          "execution_count": 7
        },
        {
          "output_type": "display_data",
          "data": {
            "image/png": "[encoded data removed]",
            "text/plain": [
              "<Figure size 1440x1440 with 9 Axes>"
            ]
          },
          "metadata": {
            "needs_background": "light"
          }
        }
      ]
    },
    {
      "cell_type": "code",
      "metadata": {
        "colab": {
          "base_uri": "https://localhost:8080/"
        },
        "id": "ByazmFjlqZt-",
        "outputId": "5fea5345-0c79-4737-e078-5408ccc8e2b2"
      },
      "source": [
        "print(df[\"ocean_proximity\"].value_counts(normalize=True))"
      ],
      "execution_count": null,
      "outputs": [
        {
          "output_type": "stream",
          "name": "stdout",
          "text": [
            "<1H OCEAN     0.441814\n",
            "INLAND        0.315406\n",
            "NEAR OCEAN    0.130690\n",
            "NEAR BAY      0.111845\n",
            "ISLAND        0.000245\n",
            "Name: ocean_proximity, dtype: float64\n"
          ]
        }
      ]
    },
    {
      "cell_type": "code",
      "metadata": {
        "colab": {
          "base_uri": "https://localhost:8080/",
          "height": 282
        },
        "id": "RztoGSQAq2Ow",
        "outputId": "a9204099-846e-4531-b1f6-297c758bcde4"
      },
      "source": [
        "df[\"ocean_proximity\"].value_counts().plot(kind = 'barh')"
      ],
      "execution_count": null,
      "outputs": [
        {
          "output_type": "execute_result",
          "data": {
            "text/plain": [
              "<matplotlib.axes._subplots.AxesSubplot at 0x7fc46ae18650>"
            ]
          },
          "metadata": {},
          "execution_count": 14
        },
        {
          "output_type": "display_data",
          "data": {
            "image/png": "[encoded data removed]",
            "text/plain": [
              "<Figure size 432x288 with 1 Axes>"
            ]
          },
          "metadata": {
            "needs_background": "light"
          }
        }
      ]
    },
    {
      "cell_type": "code",
      "metadata": {
        "colab": {
          "base_uri": "https://localhost:8080/",
          "height": 344
        },
        "id": "HoqrCZIUuZJK",
        "outputId": "a0fe07a5-e4e4-45da-e32d-7cb5bb877545"
      },
      "source": [
        "df.corr().style.background_gradient()"
      ],
      "execution_count": null,
      "outputs": [
        {
          "output_type": "execute_result",
          "data": {
            "text/html": [
              "<style  type=\"text/css\" >\n",
              "#T_776db4a2_4171_11ec_a084_0242ac1c0002row0_col0,#T_776db4a2_4171_11ec_a084_0242ac1c0002row1_col1,#T_776db4a2_4171_11ec_a084_0242ac1c0002row2_col2,#T_776db4a2_4171_11ec_a084_0242ac1c0002row3_col3,#T_776db4a2_4171_11ec_a084_0242ac1c0002row4_col4,#T_776db4a2_4171_11ec_a084_0242ac1c0002row5_col5,#T_776db4a2_4171_11ec_a084_0242ac1c0002row6_col6,#T_776db4a2_4171_11ec_a084_0242ac1c0002row7_col7,#T_776db4a2_4171_11ec_a084_0242ac1c0002row8_col8{\n",
              "            background-color:  #023858;\n",
              "            color:  #f1f1f1;\n",
              "        }#T_776db4a2_4171_11ec_a084_0242ac1c0002row0_col1,#T_776db4a2_4171_11ec_a084_0242ac1c0002row1_col0,#T_776db4a2_4171_11ec_a084_0242ac1c0002row1_col8,#T_776db4a2_4171_11ec_a084_0242ac1c0002row2_col3,#T_776db4a2_4171_11ec_a084_0242ac1c0002row2_col4,#T_776db4a2_4171_11ec_a084_0242ac1c0002row2_col5,#T_776db4a2_4171_11ec_a084_0242ac1c0002row2_col6,#T_776db4a2_4171_11ec_a084_0242ac1c0002row2_col7,#T_776db4a2_4171_11ec_a084_0242ac1c0002row3_col2{\n",
              "            background-color:  #fff7fb;\n",
              "            color:  #000000;\n",
              "        }#T_776db4a2_4171_11ec_a084_0242ac1c0002row0_col2,#T_776db4a2_4171_11ec_a084_0242ac1c0002row1_col6,#T_776db4a2_4171_11ec_a084_0242ac1c0002row7_col2{\n",
              "            background-color:  #e0dded;\n",
              "            color:  #000000;\n",
              "        }#T_776db4a2_4171_11ec_a084_0242ac1c0002row0_col3{\n",
              "            background-color:  #c0c9e2;\n",
              "            color:  #000000;\n",
              "        }#T_776db4a2_4171_11ec_a084_0242ac1c0002row0_col4{\n",
              "            background-color:  #c1cae2;\n",
              "            color:  #000000;\n",
              "        }#T_776db4a2_4171_11ec_a084_0242ac1c0002row0_col5{\n",
              "            background-color:  #bdc8e1;\n",
              "            color:  #000000;\n",
              "        }#T_776db4a2_4171_11ec_a084_0242ac1c0002row0_col6,#T_776db4a2_4171_11ec_a084_0242ac1c0002row3_col7{\n",
              "            background-color:  #c8cde4;\n",
              "            color:  #000000;\n",
              "        }#T_776db4a2_4171_11ec_a084_0242ac1c0002row0_col7{\n",
              "            background-color:  #f2ecf5;\n",
              "            color:  #000000;\n",
              "        }#T_776db4a2_4171_11ec_a084_0242ac1c0002row0_col8{\n",
              "            background-color:  #f3edf5;\n",
              "            color:  #000000;\n",
              "        }#T_776db4a2_4171_11ec_a084_0242ac1c0002row1_col2,#T_776db4a2_4171_11ec_a084_0242ac1c0002row8_col4,#T_776db4a2_4171_11ec_a084_0242ac1c0002row8_col6{\n",
              "            background-color:  #c6cce3;\n",
              "            color:  #000000;\n",
              "        }#T_776db4a2_4171_11ec_a084_0242ac1c0002row1_col3,#T_776db4a2_4171_11ec_a084_0242ac1c0002row7_col6{\n",
              "            background-color:  #d2d3e7;\n",
              "            color:  #000000;\n",
              "        }#T_776db4a2_4171_11ec_a084_0242ac1c0002row1_col4{\n",
              "            background-color:  #dcdaeb;\n",
              "            color:  #000000;\n",
              "        }#T_776db4a2_4171_11ec_a084_0242ac1c0002row1_col5{\n",
              "            background-color:  #e7e3f0;\n",
              "            color:  #000000;\n",
              "        }#T_776db4a2_4171_11ec_a084_0242ac1c0002row1_col7{\n",
              "            background-color:  #faf3f9;\n",
              "            color:  #000000;\n",
              "        }#T_776db4a2_4171_11ec_a084_0242ac1c0002row2_col0{\n",
              "            background-color:  #94b6d7;\n",
              "            color:  #000000;\n",
              "        }#T_776db4a2_4171_11ec_a084_0242ac1c0002row2_col1{\n",
              "            background-color:  #78abd0;\n",
              "            color:  #000000;\n",
              "        }#T_776db4a2_4171_11ec_a084_0242ac1c0002row2_col8{\n",
              "            background-color:  #d8d7e9;\n",
              "            color:  #000000;\n",
              "        }#T_776db4a2_4171_11ec_a084_0242ac1c0002row3_col0{\n",
              "            background-color:  #73a9cf;\n",
              "            color:  #000000;\n",
              "        }#T_776db4a2_4171_11ec_a084_0242ac1c0002row3_col1{\n",
              "            background-color:  #83afd3;\n",
              "            color:  #000000;\n",
              "        }#T_776db4a2_4171_11ec_a084_0242ac1c0002row3_col4,#T_776db4a2_4171_11ec_a084_0242ac1c0002row4_col3{\n",
              "            background-color:  #03466e;\n",
              "            color:  #f1f1f1;\n",
              "        }#T_776db4a2_4171_11ec_a084_0242ac1c0002row3_col5{\n",
              "            background-color:  #045687;\n",
              "            color:  #f1f1f1;\n",
              "        }#T_776db4a2_4171_11ec_a084_0242ac1c0002row3_col6{\n",
              "            background-color:  #034973;\n",
              "            color:  #f1f1f1;\n",
              "        }#T_776db4a2_4171_11ec_a084_0242ac1c0002row3_col8,#T_776db4a2_4171_11ec_a084_0242ac1c0002row7_col4{\n",
              "            background-color:  #d3d4e7;\n",
              "            color:  #000000;\n",
              "        }#T_776db4a2_4171_11ec_a084_0242ac1c0002row4_col0{\n",
              "            background-color:  #6ba5cd;\n",
              "            color:  #000000;\n",
              "        }#T_776db4a2_4171_11ec_a084_0242ac1c0002row4_col1{\n",
              "            background-color:  #89b1d4;\n",
              "            color:  #000000;\n",
              "        }#T_776db4a2_4171_11ec_a084_0242ac1c0002row4_col2{\n",
              "            background-color:  #fbf3f9;\n",
              "            color:  #000000;\n",
              "        }#T_776db4a2_4171_11ec_a084_0242ac1c0002row4_col5{\n",
              "            background-color:  #045280;\n",
              "            color:  #f1f1f1;\n",
              "        }#T_776db4a2_4171_11ec_a084_0242ac1c0002row4_col6,#T_776db4a2_4171_11ec_a084_0242ac1c0002row6_col4{\n",
              "            background-color:  #023c5f;\n",
              "            color:  #f1f1f1;\n",
              "        }#T_776db4a2_4171_11ec_a084_0242ac1c0002row4_col7{\n",
              "            background-color:  #f1ebf4;\n",
              "            color:  #000000;\n",
              "        }#T_776db4a2_4171_11ec_a084_0242ac1c0002row4_col8{\n",
              "            background-color:  #e4e1ef;\n",
              "            color:  #000000;\n",
              "        }#T_776db4a2_4171_11ec_a084_0242ac1c0002row5_col0{\n",
              "            background-color:  #63a2cb;\n",
              "            color:  #000000;\n",
              "        }#T_776db4a2_4171_11ec_a084_0242ac1c0002row5_col1{\n",
              "            background-color:  #93b5d6;\n",
              "            color:  #000000;\n",
              "        }#T_776db4a2_4171_11ec_a084_0242ac1c0002row5_col2{\n",
              "            background-color:  #f8f1f8;\n",
              "            color:  #000000;\n",
              "        }#T_776db4a2_4171_11ec_a084_0242ac1c0002row5_col3{\n",
              "            background-color:  #045585;\n",
              "            color:  #f1f1f1;\n",
              "        }#T_776db4a2_4171_11ec_a084_0242ac1c0002row5_col4{\n",
              "            background-color:  #03517e;\n",
              "            color:  #f1f1f1;\n",
              "        }#T_776db4a2_4171_11ec_a084_0242ac1c0002row5_col6,#T_776db4a2_4171_11ec_a084_0242ac1c0002row6_col5{\n",
              "            background-color:  #034b76;\n",
              "            color:  #f1f1f1;\n",
              "        }#T_776db4a2_4171_11ec_a084_0242ac1c0002row5_col7,#T_776db4a2_4171_11ec_a084_0242ac1c0002row5_col8{\n",
              "            background-color:  #f0eaf4;\n",
              "            color:  #000000;\n",
              "        }#T_776db4a2_4171_11ec_a084_0242ac1c0002row6_col0{\n",
              "            background-color:  #6fa7ce;\n",
              "            color:  #000000;\n",
              "        }#T_776db4a2_4171_11ec_a084_0242ac1c0002row6_col1{\n",
              "            background-color:  #8bb2d4;\n",
              "            color:  #000000;\n",
              "        }#T_776db4a2_4171_11ec_a084_0242ac1c0002row6_col2{\n",
              "            background-color:  #f9f2f8;\n",
              "            color:  #000000;\n",
              "        }#T_776db4a2_4171_11ec_a084_0242ac1c0002row6_col3{\n",
              "            background-color:  #034871;\n",
              "            color:  #f1f1f1;\n",
              "        }#T_776db4a2_4171_11ec_a084_0242ac1c0002row6_col7{\n",
              "            background-color:  #eee9f3;\n",
              "            color:  #000000;\n",
              "        }#T_776db4a2_4171_11ec_a084_0242ac1c0002row6_col8{\n",
              "            background-color:  #e0deed;\n",
              "            color:  #000000;\n",
              "        }#T_776db4a2_4171_11ec_a084_0242ac1c0002row7_col0{\n",
              "            background-color:  #80aed2;\n",
              "            color:  #000000;\n",
              "        }#T_776db4a2_4171_11ec_a084_0242ac1c0002row7_col1{\n",
              "            background-color:  #8cb3d5;\n",
              "            color:  #000000;\n",
              "        }#T_776db4a2_4171_11ec_a084_0242ac1c0002row7_col3,#T_776db4a2_4171_11ec_a084_0242ac1c0002row8_col1{\n",
              "            background-color:  #99b8d8;\n",
              "            color:  #000000;\n",
              "        }#T_776db4a2_4171_11ec_a084_0242ac1c0002row7_col5{\n",
              "            background-color:  #d4d4e8;\n",
              "            color:  #000000;\n",
              "        }#T_776db4a2_4171_11ec_a084_0242ac1c0002row7_col8{\n",
              "            background-color:  #0d75b3;\n",
              "            color:  #f1f1f1;\n",
              "        }#T_776db4a2_4171_11ec_a084_0242ac1c0002row8_col0{\n",
              "            background-color:  #86b0d3;\n",
              "            color:  #000000;\n",
              "        }#T_776db4a2_4171_11ec_a084_0242ac1c0002row8_col2{\n",
              "            background-color:  #b0c2de;\n",
              "            color:  #000000;\n",
              "        }#T_776db4a2_4171_11ec_a084_0242ac1c0002row8_col3{\n",
              "            background-color:  #abbfdc;\n",
              "            color:  #000000;\n",
              "        }#T_776db4a2_4171_11ec_a084_0242ac1c0002row8_col5{\n",
              "            background-color:  #d9d8ea;\n",
              "            color:  #000000;\n",
              "        }#T_776db4a2_4171_11ec_a084_0242ac1c0002row8_col7{\n",
              "            background-color:  #1077b4;\n",
              "            color:  #f1f1f1;\n",
              "        }</style><table id=\"T_776db4a2_4171_11ec_a084_0242ac1c0002\" class=\"dataframe\"><thead>    <tr>        <th class=\"blank level0\" ></th>        <th class=\"col_heading level0 col0\" >longitude</th>        <th class=\"col_heading level0 col1\" >latitude</th>        <th class=\"col_heading level0 col2\" >housing_median_age</th>        <th class=\"col_heading level0 col3\" >total_rooms</th>        <th class=\"col_heading level0 col4\" >total_bedrooms</th>        <th class=\"col_heading level0 col5\" >population</th>        <th class=\"col_heading level0 col6\" >households</th>        <th class=\"col_heading level0 col7\" >median_income</th>        <th class=\"col_heading level0 col8\" >median_house_value</th>    </tr></thead><tbody>\n",
              "                <tr>\n",
              "                        <th id=\"T_776db4a2_4171_11ec_a084_0242ac1c0002level0_row0\" class=\"row_heading level0 row0\" >longitude</th>\n",
              "                        <td id=\"T_776db4a2_4171_11ec_a084_0242ac1c0002row0_col0\" class=\"data row0 col0\" >1.000000</td>\n",
              "                        <td id=\"T_776db4a2_4171_11ec_a084_0242ac1c0002row0_col1\" class=\"data row0 col1\" >-0.925276</td>\n",
              "                        <td id=\"T_776db4a2_4171_11ec_a084_0242ac1c0002row0_col2\" class=\"data row0 col2\" >-0.113865</td>\n",
              "                        <td id=\"T_776db4a2_4171_11ec_a084_0242ac1c0002row0_col3\" class=\"data row0 col3\" >0.043857</td>\n",
              "                        <td id=\"T_776db4a2_4171_11ec_a084_0242ac1c0002row0_col4\" class=\"data row0 col4\" >0.067794</td>\n",
              "                        <td id=\"T_776db4a2_4171_11ec_a084_0242ac1c0002row0_col5\" class=\"data row0 col5\" >0.098067</td>\n",
              "                        <td id=\"T_776db4a2_4171_11ec_a084_0242ac1c0002row0_col6\" class=\"data row0 col6\" >0.054115</td>\n",
              "                        <td id=\"T_776db4a2_4171_11ec_a084_0242ac1c0002row0_col7\" class=\"data row0 col7\" >-0.016958</td>\n",
              "                        <td id=\"T_776db4a2_4171_11ec_a084_0242ac1c0002row0_col8\" class=\"data row0 col8\" >-0.048533</td>\n",
              "            </tr>\n",
              "            <tr>\n",
              "                        <th id=\"T_776db4a2_4171_11ec_a084_0242ac1c0002level0_row1\" class=\"row_heading level0 row1\" >latitude</th>\n",
              "                        <td id=\"T_776db4a2_4171_11ec_a084_0242ac1c0002row1_col0\" class=\"data row1 col0\" >-0.925276</td>\n",
              "                        <td id=\"T_776db4a2_4171_11ec_a084_0242ac1c0002row1_col1\" class=\"data row1 col1\" >1.000000</td>\n",
              "                        <td id=\"T_776db4a2_4171_11ec_a084_0242ac1c0002row1_col2\" class=\"data row1 col2\" >0.016195</td>\n",
              "                        <td id=\"T_776db4a2_4171_11ec_a084_0242ac1c0002row1_col3\" class=\"data row1 col3\" >-0.032928</td>\n",
              "                        <td id=\"T_776db4a2_4171_11ec_a084_0242ac1c0002row1_col4\" class=\"data row1 col4\" >-0.063420</td>\n",
              "                        <td id=\"T_776db4a2_4171_11ec_a084_0242ac1c0002row1_col5\" class=\"data row1 col5\" >-0.105603</td>\n",
              "                        <td id=\"T_776db4a2_4171_11ec_a084_0242ac1c0002row1_col6\" class=\"data row1 col6\" >-0.068083</td>\n",
              "                        <td id=\"T_776db4a2_4171_11ec_a084_0242ac1c0002row1_col7\" class=\"data row1 col7\" >-0.076985</td>\n",
              "                        <td id=\"T_776db4a2_4171_11ec_a084_0242ac1c0002row1_col8\" class=\"data row1 col8\" >-0.140124</td>\n",
              "            </tr>\n",
              "            <tr>\n",
              "                        <th id=\"T_776db4a2_4171_11ec_a084_0242ac1c0002level0_row2\" class=\"row_heading level0 row2\" >housing_median_age</th>\n",
              "                        <td id=\"T_776db4a2_4171_11ec_a084_0242ac1c0002row2_col0\" class=\"data row2 col0\" >-0.113865</td>\n",
              "                        <td id=\"T_776db4a2_4171_11ec_a084_0242ac1c0002row2_col1\" class=\"data row2 col1\" >0.016195</td>\n",
              "                        <td id=\"T_776db4a2_4171_11ec_a084_0242ac1c0002row2_col2\" class=\"data row2 col2\" >1.000000</td>\n",
              "                        <td id=\"T_776db4a2_4171_11ec_a084_0242ac1c0002row2_col3\" class=\"data row2 col3\" >-0.362673</td>\n",
              "                        <td id=\"T_776db4a2_4171_11ec_a084_0242ac1c0002row2_col4\" class=\"data row2 col4\" >-0.322493</td>\n",
              "                        <td id=\"T_776db4a2_4171_11ec_a084_0242ac1c0002row2_col5\" class=\"data row2 col5\" >-0.298602</td>\n",
              "                        <td id=\"T_776db4a2_4171_11ec_a084_0242ac1c0002row2_col6\" class=\"data row2 col6\" >-0.305114</td>\n",
              "                        <td id=\"T_776db4a2_4171_11ec_a084_0242ac1c0002row2_col7\" class=\"data row2 col7\" >-0.115046</td>\n",
              "                        <td id=\"T_776db4a2_4171_11ec_a084_0242ac1c0002row2_col8\" class=\"data row2 col8\" >0.106318</td>\n",
              "            </tr>\n",
              "            <tr>\n",
              "                        <th id=\"T_776db4a2_4171_11ec_a084_0242ac1c0002level0_row3\" class=\"row_heading level0 row3\" >total_rooms</th>\n",
              "                        <td id=\"T_776db4a2_4171_11ec_a084_0242ac1c0002row3_col0\" class=\"data row3 col0\" >0.043857</td>\n",
              "                        <td id=\"T_776db4a2_4171_11ec_a084_0242ac1c0002row3_col1\" class=\"data row3 col1\" >-0.032928</td>\n",
              "                        <td id=\"T_776db4a2_4171_11ec_a084_0242ac1c0002row3_col2\" class=\"data row3 col2\" >-0.362673</td>\n",
              "                        <td id=\"T_776db4a2_4171_11ec_a084_0242ac1c0002row3_col3\" class=\"data row3 col3\" >1.000000</td>\n",
              "                        <td id=\"T_776db4a2_4171_11ec_a084_0242ac1c0002row3_col4\" class=\"data row3 col4\" >0.930445</td>\n",
              "                        <td id=\"T_776db4a2_4171_11ec_a084_0242ac1c0002row3_col5\" class=\"data row3 col5\" >0.855232</td>\n",
              "                        <td id=\"T_776db4a2_4171_11ec_a084_0242ac1c0002row3_col6\" class=\"data row3 col6\" >0.917096</td>\n",
              "                        <td id=\"T_776db4a2_4171_11ec_a084_0242ac1c0002row3_col7\" class=\"data row3 col7\" >0.193655</td>\n",
              "                        <td id=\"T_776db4a2_4171_11ec_a084_0242ac1c0002row3_col8\" class=\"data row3 col8\" >0.130030</td>\n",
              "            </tr>\n",
              "            <tr>\n",
              "                        <th id=\"T_776db4a2_4171_11ec_a084_0242ac1c0002level0_row4\" class=\"row_heading level0 row4\" >total_bedrooms</th>\n",
              "                        <td id=\"T_776db4a2_4171_11ec_a084_0242ac1c0002row4_col0\" class=\"data row4 col0\" >0.067794</td>\n",
              "                        <td id=\"T_776db4a2_4171_11ec_a084_0242ac1c0002row4_col1\" class=\"data row4 col1\" >-0.063420</td>\n",
              "                        <td id=\"T_776db4a2_4171_11ec_a084_0242ac1c0002row4_col2\" class=\"data row4 col2\" >-0.322493</td>\n",
              "                        <td id=\"T_776db4a2_4171_11ec_a084_0242ac1c0002row4_col3\" class=\"data row4 col3\" >0.930445</td>\n",
              "                        <td id=\"T_776db4a2_4171_11ec_a084_0242ac1c0002row4_col4\" class=\"data row4 col4\" >1.000000</td>\n",
              "                        <td id=\"T_776db4a2_4171_11ec_a084_0242ac1c0002row4_col5\" class=\"data row4 col5\" >0.876054</td>\n",
              "                        <td id=\"T_776db4a2_4171_11ec_a084_0242ac1c0002row4_col6\" class=\"data row4 col6\" >0.978952</td>\n",
              "                        <td id=\"T_776db4a2_4171_11ec_a084_0242ac1c0002row4_col7\" class=\"data row4 col7\" >-0.009832</td>\n",
              "                        <td id=\"T_776db4a2_4171_11ec_a084_0242ac1c0002row4_col8\" class=\"data row4 col8\" >0.046566</td>\n",
              "            </tr>\n",
              "            <tr>\n",
              "                        <th id=\"T_776db4a2_4171_11ec_a084_0242ac1c0002level0_row5\" class=\"row_heading level0 row5\" >population</th>\n",
              "                        <td id=\"T_776db4a2_4171_11ec_a084_0242ac1c0002row5_col0\" class=\"data row5 col0\" >0.098067</td>\n",
              "                        <td id=\"T_776db4a2_4171_11ec_a084_0242ac1c0002row5_col1\" class=\"data row5 col1\" >-0.105603</td>\n",
              "                        <td id=\"T_776db4a2_4171_11ec_a084_0242ac1c0002row5_col2\" class=\"data row5 col2\" >-0.298602</td>\n",
              "                        <td id=\"T_776db4a2_4171_11ec_a084_0242ac1c0002row5_col3\" class=\"data row5 col3\" >0.855232</td>\n",
              "                        <td id=\"T_776db4a2_4171_11ec_a084_0242ac1c0002row5_col4\" class=\"data row5 col4\" >0.876054</td>\n",
              "                        <td id=\"T_776db4a2_4171_11ec_a084_0242ac1c0002row5_col5\" class=\"data row5 col5\" >1.000000</td>\n",
              "                        <td id=\"T_776db4a2_4171_11ec_a084_0242ac1c0002row5_col6\" class=\"data row5 col6\" >0.905994</td>\n",
              "                        <td id=\"T_776db4a2_4171_11ec_a084_0242ac1c0002row5_col7\" class=\"data row5 col7\" >0.001248</td>\n",
              "                        <td id=\"T_776db4a2_4171_11ec_a084_0242ac1c0002row5_col8\" class=\"data row5 col8\" >-0.027701</td>\n",
              "            </tr>\n",
              "            <tr>\n",
              "                        <th id=\"T_776db4a2_4171_11ec_a084_0242ac1c0002level0_row6\" class=\"row_heading level0 row6\" >households</th>\n",
              "                        <td id=\"T_776db4a2_4171_11ec_a084_0242ac1c0002row6_col0\" class=\"data row6 col0\" >0.054115</td>\n",
              "                        <td id=\"T_776db4a2_4171_11ec_a084_0242ac1c0002row6_col1\" class=\"data row6 col1\" >-0.068083</td>\n",
              "                        <td id=\"T_776db4a2_4171_11ec_a084_0242ac1c0002row6_col2\" class=\"data row6 col2\" >-0.305114</td>\n",
              "                        <td id=\"T_776db4a2_4171_11ec_a084_0242ac1c0002row6_col3\" class=\"data row6 col3\" >0.917096</td>\n",
              "                        <td id=\"T_776db4a2_4171_11ec_a084_0242ac1c0002row6_col4\" class=\"data row6 col4\" >0.978952</td>\n",
              "                        <td id=\"T_776db4a2_4171_11ec_a084_0242ac1c0002row6_col5\" class=\"data row6 col5\" >0.905994</td>\n",
              "                        <td id=\"T_776db4a2_4171_11ec_a084_0242ac1c0002row6_col6\" class=\"data row6 col6\" >1.000000</td>\n",
              "                        <td id=\"T_776db4a2_4171_11ec_a084_0242ac1c0002row6_col7\" class=\"data row6 col7\" >0.010542</td>\n",
              "                        <td id=\"T_776db4a2_4171_11ec_a084_0242ac1c0002row6_col8\" class=\"data row6 col8\" >0.061643</td>\n",
              "            </tr>\n",
              "            <tr>\n",
              "                        <th id=\"T_776db4a2_4171_11ec_a084_0242ac1c0002level0_row7\" class=\"row_heading level0 row7\" >median_income</th>\n",
              "                        <td id=\"T_776db4a2_4171_11ec_a084_0242ac1c0002row7_col0\" class=\"data row7 col0\" >-0.016958</td>\n",
              "                        <td id=\"T_776db4a2_4171_11ec_a084_0242ac1c0002row7_col1\" class=\"data row7 col1\" >-0.076985</td>\n",
              "                        <td id=\"T_776db4a2_4171_11ec_a084_0242ac1c0002row7_col2\" class=\"data row7 col2\" >-0.115046</td>\n",
              "                        <td id=\"T_776db4a2_4171_11ec_a084_0242ac1c0002row7_col3\" class=\"data row7 col3\" >0.193655</td>\n",
              "                        <td id=\"T_776db4a2_4171_11ec_a084_0242ac1c0002row7_col4\" class=\"data row7 col4\" >-0.009832</td>\n",
              "                        <td id=\"T_776db4a2_4171_11ec_a084_0242ac1c0002row7_col5\" class=\"data row7 col5\" >0.001248</td>\n",
              "                        <td id=\"T_776db4a2_4171_11ec_a084_0242ac1c0002row7_col6\" class=\"data row7 col6\" >0.010542</td>\n",
              "                        <td id=\"T_776db4a2_4171_11ec_a084_0242ac1c0002row7_col7\" class=\"data row7 col7\" >1.000000</td>\n",
              "                        <td id=\"T_776db4a2_4171_11ec_a084_0242ac1c0002row7_col8\" class=\"data row7 col8\" >0.690114</td>\n",
              "            </tr>\n",
              "            <tr>\n",
              "                        <th id=\"T_776db4a2_4171_11ec_a084_0242ac1c0002level0_row8\" class=\"row_heading level0 row8\" >median_house_value</th>\n",
              "                        <td id=\"T_776db4a2_4171_11ec_a084_0242ac1c0002row8_col0\" class=\"data row8 col0\" >-0.048533</td>\n",
              "                        <td id=\"T_776db4a2_4171_11ec_a084_0242ac1c0002row8_col1\" class=\"data row8 col1\" >-0.140124</td>\n",
              "                        <td id=\"T_776db4a2_4171_11ec_a084_0242ac1c0002row8_col2\" class=\"data row8 col2\" >0.106318</td>\n",
              "                        <td id=\"T_776db4a2_4171_11ec_a084_0242ac1c0002row8_col3\" class=\"data row8 col3\" >0.130030</td>\n",
              "                        <td id=\"T_776db4a2_4171_11ec_a084_0242ac1c0002row8_col4\" class=\"data row8 col4\" >0.046566</td>\n",
              "                        <td id=\"T_776db4a2_4171_11ec_a084_0242ac1c0002row8_col5\" class=\"data row8 col5\" >-0.027701</td>\n",
              "                        <td id=\"T_776db4a2_4171_11ec_a084_0242ac1c0002row8_col6\" class=\"data row8 col6\" >0.061643</td>\n",
              "                        <td id=\"T_776db4a2_4171_11ec_a084_0242ac1c0002row8_col7\" class=\"data row8 col7\" >0.690114</td>\n",
              "                        <td id=\"T_776db4a2_4171_11ec_a084_0242ac1c0002row8_col8\" class=\"data row8 col8\" >1.000000</td>\n",
              "            </tr>\n",
              "    </tbody></table>"
            ],
            "text/plain": [
              "<pandas.io.formats.style.Styler at 0x7fc46af60650>"
            ]
          },
          "metadata": {},
          "execution_count": 15
        }
      ]
    },
    {
      "cell_type": "code",
      "metadata": {
        "colab": {
          "base_uri": "https://localhost:8080/",
          "height": 643
        },
        "id": "DV1ucGcvwTQ2",
        "outputId": "ffcf5041-a186-4d86-db64-04305072c6c6"
      },
      "source": [
        "conf_mat = df.corr()\n",
        "conf_mat = conf_mat.round(3)\n",
        "fig, ax = plt.subplots(figsize=(10,10))\n",
        "sns.heatmap(conf_mat, annot=True, fmt='g',\n",
        "            # cmap=\"magma\",\n",
        "            square=True,)\n",
        "plt.show()"
      ],
      "execution_count": null,
      "outputs": [
        {
          "output_type": "display_data",
          "data": {
            "image/png": "[encoded data removed]",
            "text/plain": [
              "<Figure size 720x720 with 2 Axes>"
            ]
          },
          "metadata": {
            "needs_background": "light"
          }
        }
      ]
    },
    {
      "cell_type": "code",
      "metadata": {
        "colab": {
          "base_uri": "https://localhost:8080/",
          "height": 487
        },
        "id": "L1oQt2uy9sYi",
        "outputId": "500563a2-5c3a-4d03-86de-9df1ec23b6a3"
      },
      "source": [
        "plot = sns.jointplot(x=\"total_rooms\", y=\"population\", data=df, kind=\"scatter\", hue=\"median_house_value\",)\n",
        "sns.despine()\n",
        "plot.ax_marg_x.set_xlim(-1000,40000)\n",
        "plot.ax_marg_y.set_ylim(-1000,20000)\n",
        "plt.legend(loc=\"lower right\")"
      ],
      "execution_count": null,
      "outputs": [
        {
          "output_type": "stream",
          "name": "stderr",
          "text": [
            "No handles with labels found to put in legend.\n"
          ]
        },
        {
          "output_type": "execute_result",
          "data": {
            "text/plain": [
              "<matplotlib.legend.Legend at 0x7f9d704000d0>"
            ]
          },
          "metadata": {},
          "execution_count": 129
        },
        {
          "output_type": "display_data",
          "data": {
            "image/png": "[encoded data removed]",
            "text/plain": [
              "<Figure size 432x432 with 3 Axes>"
            ]
          },
          "metadata": {
            "needs_background": "light"
          }
        }
      ]
    },
    {
      "cell_type": "code",
      "metadata": {
        "colab": {
          "base_uri": "https://localhost:8080/",
          "height": 458
        },
        "id": "-CCUe5olBNxI",
        "outputId": "3d4f9f12-60ff-4b1d-e833-ac27bb1b7b15"
      },
      "source": [
        "plot = sns.jointplot(x=\"latitude\",y=\"longitude\",data=df, hue=\"median_house_value\")\n",
        "sns.despine()\n",
        "plot.ax_marg_x.set_xlim(30,45)\n",
        "plot.ax_marg_y.set_ylim(-127.5,-112.5)"
      ],
      "execution_count": null,
      "outputs": [
        {
          "output_type": "execute_result",
          "data": {
            "text/plain": [
              "(-127.5, -112.5)"
            ]
          },
          "metadata": {},
          "execution_count": 137
        },
        {
          "output_type": "display_data",
          "data": {
            "image/png": "[encoded data removed]",
            "text/plain": [
              "<Figure size 432x432 with 3 Axes>"
            ]
          },
          "metadata": {
            "needs_background": "light"
          }
        }
      ]
    },
    {
      "cell_type": "markdown",
      "metadata": {
        "id": "IsMOXKx7oOch"
      },
      "source": [
        "# Model"
      ]
    },
    {
      "cell_type": "code",
      "metadata": {
        "id": "r6dTWcPKb4xj"
      },
      "source": [
        "import pandas as pd\n",
        "import numpy as np\n",
        "\n",
        "import matplotlib.pyplot as plt\n",
        "import seaborn as sns\n",
        "\n",
        "import time \n",
        "\n",
        "import torch\n",
        "import torch.nn as nn\n",
        "\n",
        "import pickle\n",
        "\n",
        "from sklearn.model_selection import train_test_split\n",
        "\n",
        "from sklearn.preprocessing import MinMaxScaler\n",
        "from sklearn.preprocessing import OneHotEncoder\n",
        "\n",
        "from sklearn.metrics import mean_squared_error"
      ],
      "execution_count": null,
      "outputs": []
    },
    {
      "cell_type": "code",
      "metadata": {
        "id": "R0ld3Y1M4QeR"
      },
      "source": [
        "class Regressor(nn.Module):\n",
        "\n",
        "    \n",
        "    def __init__(self, x, nb_epoch = 1000):\n",
        "        # You can add any input parameters you need\n",
        "        # Remember to set them with a \n",
        "        # default value for LabTS tests\n",
        "        \"\"\" \n",
        "        Initialise the model.\n",
        "          \n",
        "        Arguments:\n",
        "            - x {pd.DataFrame} -- Raw input data of shape \n",
        "                (batch_size, input_size), used to compute the size \n",
        "                of the network.\n",
        "            - nb_epoch {int} -- number of epoch to train the network.\n",
        "\n",
        "        \"\"\"\n",
        "\n",
        "        #######################################################################\n",
        "        #                       ** START OF YOUR CODE **\n",
        "        #######################################################################\n",
        "        # Super class constructor.\n",
        "        super().__init__()\n",
        "        # Replace this code with your own\n",
        "        X, _ = self._preprocessor(x, training = True)\n",
        "        self.input_size = X.shape[1]\n",
        "        self.output_size = 1\n",
        "        self.nb_epoch = nb_epoch \n",
        "\n",
        "        self._sequential = nn.Sequential(\n",
        "            nn.Linear(self.input_size, 1500),\n",
        "            nn.ReLU(),\n",
        "            nn.Linear(1500, 500),\n",
        "            nn.ReLU(),\n",
        "            nn.Linear(500, 300),\n",
        "            nn.ReLU(),\n",
        "            nn.Linear(300, self.output_size)\n",
        "        )\n",
        "\n",
        "        #######################################################################\n",
        "        #                       ** END OF YOUR CODE **\n",
        "        #######################################################################\n",
        "\n",
        "\n",
        "\n",
        "    \n",
        "    def forward(self, x):\n",
        "\n",
        "      return self._sequential(x)\n",
        "    \n",
        "\n",
        "\n",
        "    \n",
        "    def _preprocessor(self, x, y = None, training = False):\n",
        "        \"\"\" \n",
        "        Preprocess input of the network.\n",
        "          \n",
        "        Arguments:\n",
        "            - x {pd.DataFrame} -- Raw input array of shape \n",
        "                (batch_size, input_size).\n",
        "            - y {pd.DataFrame} -- Raw target array of shape (batch_size, 1).\n",
        "            - training {boolean} -- Boolean indicating if we are training or \n",
        "                testing the model.\n",
        "\n",
        "        Returns:\n",
        "            - {torch.tensor} or {numpy.ndarray} -- Preprocessed input array of\n",
        "              size (batch_size, input_size).\n",
        "            - {torch.tensor} or {numpy.ndarray} -- Preprocessed target array of\n",
        "              size (batch_size, 1).\n",
        "\n",
        "        \"\"\"\n",
        "\n",
        "        #######################################################################\n",
        "        #                       ** START OF YOUR CODE **\n",
        "        #######################################################################\n",
        "        # NaNs.\n",
        "        x[\"total_bedrooms\"].fillna((x[\"total_bedrooms\"].mean()), inplace=True)\n",
        "\n",
        "        # Categorical one-hot encoding.\n",
        "        # x = self._one_hot(x)\n",
        "        if \"ocean_proximity\" in x.columns:\n",
        "          x.drop(\"ocean_proximity\",axis=1,inplace=True)\n",
        "\n",
        "        # Scaler\n",
        "        if training:\n",
        "          # Create scaler objects.\n",
        "          self.x_scaler = MinMaxScaler()\n",
        "          # Scale and store transformation.\n",
        "          x = self.x_scaler.fit_transform(x)\n",
        "          if y is not None:\n",
        "            self.y_scaler = MinMaxScaler()\n",
        "            y = self.y_scaler.fit_transform(y.to_numpy().reshape(-1,1))\n",
        "        else:\n",
        "          # Scale only.\n",
        "          x = self.x_scaler.transform(x)\n",
        "          # For scoring function.\n",
        "          if y is not None:\n",
        "            y = self.y_scaler.transform(y.to_numpy().reshape(-1,1))\n",
        "\n",
        "        # Tensor conversion.\n",
        "        x = torch.tensor(x, dtype=torch.float)\n",
        "        if y is not None:\n",
        "          y = torch.tensor(y, dtype=torch.float)\n",
        "\n",
        "        # Return preprocessed x and y, return None for y if it was None\n",
        "        return x, (y if y is not None else None)\n",
        "\n",
        "        #######################################################################\n",
        "        #                       ** END OF YOUR CODE **\n",
        "        #######################################################################\n",
        "\n",
        "\n",
        "    \n",
        "    def _one_hot(self, x):\n",
        "      \"\"\" \n",
        "        One-hot encode categorical data within passed dataframe.\n",
        "          \n",
        "        Arguments:\n",
        "            - x {pd.DataFrame} -- Raw input array of shape \n",
        "                (batch_size, input_size).\n",
        "\n",
        "        Returns:\n",
        "            - x {pd.DataFrame} -- Input array of shape \n",
        "                (batch_size, input_size + num_of_new_categories).\n",
        "      \"\"\"\n",
        "      # Create encoder instance and fit-transform to ocean proximity series.\n",
        "      enc = OneHotEncoder()\n",
        "      X_ = enc.fit_transform(x.ocean_proximity.values.reshape(-1,1)).toarray()\n",
        "      # Create one-hot encoded dataframe for ocean proximity.\n",
        "      cat_names = [name for name in enc.categories_[0]]\n",
        "      x_one_hot = pd.DataFrame(X_, columns = cat_names)\n",
        "      # Reset dataframe indexs.\n",
        "      x.reset_index(drop=True, inplace=True)\n",
        "      x_one_hot.reset_index(drop=True, inplace=True)\n",
        "      # Concatenate all dataframes back together.\n",
        "      x = pd.concat([x, x_one_hot], axis=1)\n",
        "      # Drop original column\n",
        "      x.drop(\"ocean_proximity\", axis=1, inplace=True)\n",
        "      return x\n",
        "\n",
        "\n",
        "        \n",
        "    \n",
        "    def fit(self, x, y,\n",
        "            lr=1e-3, opt_func=torch.optim.Adam, mini_batch=None,\n",
        "            regularizer=None, lambda_decay=1e-5,\n",
        "            callbacks = {},\n",
        "            validation_set=None):\n",
        "        \"\"\"\n",
        "        Regressor training function\n",
        "\n",
        "        Arguments:\n",
        "            - x {pd.DataFrame} -- Raw input array of shape \n",
        "                (batch_size, input_size).\n",
        "            - y {pd.DataFrame} -- Raw output array of shape (batch_size, 1).\n",
        "\n",
        "        Returns:\n",
        "            self {Regressor} -- Trained model.\n",
        "\n",
        "        \"\"\"\n",
        "\n",
        "        #######################################################################\n",
        "        #                       ** START OF YOUR CODE **\n",
        "        #######################################################################\n",
        "        \n",
        "        X, y = self._preprocessor(x, y = y, training = True) # Do not forget\n",
        "\n",
        "        if validation_set:\n",
        "          X_val, y_val = validation_set\n",
        "          X_val, y_val = self._preprocessor(X_val, y=y_val, training=False)\n",
        "\n",
        "        # Loss function.\n",
        "        criterion = nn.MSELoss()\n",
        "        # Optimizer.\n",
        "        optimizer = opt_func(self.parameters(), lr)\n",
        "        \n",
        "        # Callback variables\n",
        "        verbose = callbacks.get(\"verbose\", False)\n",
        "        patience = callbacks.get(\"patience\",10)\n",
        "        monitor = callbacks.get(\"monitor\", \"loss\")\n",
        "        # Early stopping variables.\n",
        "        early_stop = 0\n",
        "        loss_to_beat = None # Var to store best loss within patience range.\n",
        "\n",
        "        # History to store: epochs, loss, (val_loss)\n",
        "        self.history = []\n",
        "        for epoch in range(self.nb_epoch):\n",
        "\n",
        "          # For mini-batch selections.\n",
        "          permutation = torch.randperm(X.shape[0])\n",
        "          # batch learning.\n",
        "          if mini_batch is None:\n",
        "            mini_batch = X.shape[0]\n",
        "          # mini-batch learning.\n",
        "          else:\n",
        "            mini_batch = mini_batch\n",
        "\n",
        "          # Mini-batch (or batch if mini_batch == X.shape[0])\n",
        "          for i in range(0, X.shape[0], mini_batch):\n",
        "            # Reset gradients\n",
        "            optimizer.zero_grad()\n",
        "            # Batch indicies.\n",
        "            indicies = permutation[i:i+mini_batch]\n",
        "            batch_X, batch_y = X[indicies], y[indicies]\n",
        "            # Forward\n",
        "            batch_y_hat = self.forward(batch_X)\n",
        "            # Loss\n",
        "            loss = criterion(batch_y_hat, batch_y)\n",
        "            # Perform weight regularization (if specified, else loss is unchanged).\n",
        "            loss = self._weight_regularization(loss, regularizer, lambda_decay)\n",
        "            # End training if:\n",
        "            if torch.isnan(loss) or torch.isinf(loss):\n",
        "              if verbose:\n",
        "                print(\"Training ended: loss is Nan or Inf.\")\n",
        "                print(\"Epoch: {}, Loss: {}\".format(epoch,loss))\n",
        "              break\n",
        "            # Backward\n",
        "            loss.backward()\n",
        "            # Update Parameters\n",
        "            optimizer.step()\n",
        "\n",
        "\n",
        "          # Early Stopping\n",
        "          # Data collected per epoch.\n",
        "          epoch_data = (epoch, loss.item())\n",
        "          if validation_set:\n",
        "            # Prevent gradient mutations.\n",
        "            with torch.no_grad():\n",
        "              y_hat_val = self.forward(X_val)\n",
        "              val_loss = criterion(y_hat_val, y_val)\n",
        "              # add val_loss to epoch_data tuple.\n",
        "              epoch_data += (val_loss.item(),)\n",
        "          \n",
        "          i_loss = None\n",
        "          if monitor == \"val_loss\" and validation_set:\n",
        "            # Counter to index epoch_data and previous 'history' record.\n",
        "            i_loss = 2\n",
        "            curr_loss = epoch_data[i_loss] # Validation Loss\n",
        "          else:\n",
        "            i_loss = 1\n",
        "            curr_loss = epoch_data[i_loss] # Loss\n",
        "          if loss_to_beat is None:\n",
        "            if self.history: # If list is not empty.\n",
        "              if curr_loss > self.history[-1][i_loss]: # If new loss is greater than prev loss.\n",
        "                loss_to_beat = self.history[-1][i_loss] # Set loss to beat to be prev loss.\n",
        "                early_stop += 1 # Increment doomsday counter\n",
        "          elif loss_to_beat is not None:\n",
        "            if curr_loss > loss_to_beat: # If new loss continues to underperform loss to beat.\n",
        "              early_stop += 1 # Increment doomsday counter\n",
        "            else:\n",
        "              loss_to_beat = None # Loss to beat was beaten, reset variable.\n",
        "              early_stop = 0 \n",
        "          # Patience check\n",
        "          if early_stop == patience:\n",
        "            if verbose:\n",
        "              print(\"Training ended, early stopping at:\")\n",
        "              print(\"Epoch: {}, {}: {}\\nloss-to-beat: {}\".format(epoch, monitor, curr_loss, loss_to_beat))\n",
        "            break\n",
        "\n",
        "          # Print training process.\n",
        "          self._verbose(verbose, epoch_data)\n",
        "          # Store epoch, loss in history list.\n",
        "          self.history.append(epoch_data)\n",
        "        \n",
        "        return self\n",
        "\n",
        "\n",
        "        #######################################################################\n",
        "        #                       ** END OF YOUR CODE **\n",
        "        #######################################################################\n",
        "\n",
        "            \n",
        "    \n",
        "    def predict(self, x):\n",
        "        \"\"\"\n",
        "        Ouput the value corresponding to an input x.\n",
        "\n",
        "        Arguments:\n",
        "            x {pd.DataFrame} -- Raw input array of shape \n",
        "                (batch_size, input_size).\n",
        "\n",
        "        Returns:\n",
        "            {np.darray} -- Predicted value for the given input (batch_size, 1).\n",
        "\n",
        "        \"\"\"\n",
        "\n",
        "        #######################################################################\n",
        "        #                       ** START OF YOUR CODE **\n",
        "        #######################################################################\n",
        "\n",
        "        # Preprocess test data.\n",
        "        X, _ = self._preprocessor(x, training = False) # Do not forget\n",
        "        \n",
        "        # Predict.\n",
        "        y_pred = self.forward(X)\n",
        "        # Detach Tensor.\n",
        "        y_pred = y_pred.detach().numpy()\n",
        "        # Inverse Scale.\n",
        "        y_pred = self.y_scaler.inverse_transform(y_pred)\n",
        "        return y_pred\n",
        "\n",
        "        #######################################################################\n",
        "        #                       ** END OF YOUR CODE **\n",
        "        #######################################################################\n",
        "\n",
        "    \n",
        "    def score(self, x, y):\n",
        "        \"\"\"\n",
        "        Function to evaluate the model accuracy on a validation dataset.\n",
        "\n",
        "        Arguments:\n",
        "            - x {pd.DataFrame} -- Raw input array of shape \n",
        "                (batch_size, input_size).\n",
        "            - y {pd.DataFrame} -- Raw ouput array of shape (batch_size, 1).\n",
        "\n",
        "        Returns:\n",
        "            {float} -- Quantification of the efficiency of the model.\n",
        "\n",
        "        \"\"\"\n",
        "\n",
        "        #######################################################################\n",
        "        #                       ** START OF YOUR CODE **\n",
        "        #######################################################################\n",
        "\n",
        "        y_pred = self.predict(x)\n",
        "\n",
        "        rmse = mean_squared_error(y, y_pred, squared=False)\n",
        "\n",
        "        return rmse\n",
        "\n",
        "        #######################################################################\n",
        "        #                       ** END OF YOUR CODE **\n",
        "        #######################################################################\n",
        "\n",
        "\n",
        "    \n",
        "    def _weight_regularization(self, loss, regularizer, lambda_decay):\n",
        "      '''\n",
        "      Perform weight regularization.\n",
        "      '''\n",
        "      # Weight Decay\n",
        "      if regularizer is not None and isinstance(regularizer, str):\n",
        "        regularizer = regularizer.lower()\n",
        "        if regularizer not in [\"l1\", \"l2\"]:\n",
        "          raise ValueError(\"This model only accepts L1 or L2 regularization\")\n",
        "        else:\n",
        "          if regularizer == \"l1\":\n",
        "            # Only apply regularization to weights (not biases).\n",
        "            lx_norm = sum(p.abs().sum() for name, p in regressor.named_parameters() if \"bias\" not in name)\n",
        "          if regularizer == \"l2\":\n",
        "            lx_norm = sum(p.pow(2.0).sum() for name, p in regressor.named_parameters() if \"bias\" not in name)\n",
        "          # Perform weight regularization.\n",
        "          loss = loss + lambda_decay * lx_norm\n",
        "      return loss\n",
        "\n",
        "    \n",
        "    \n",
        "    def _verbose(self, verbose, epoch_data):\n",
        "      '''\n",
        "      Print training scores of model during fit function.\n",
        "      '''\n",
        "      if verbose and epoch_data[0] % 10 == 0:\n",
        "        if len(epoch_data) == 3:\n",
        "          e, l, v_l = epoch_data\n",
        "          print(\"Epoch: {}, Loss: {}, Val-Loss: {}\".format(e, l, v_l))\n",
        "        else:\n",
        "          e, l = epoch_data\n",
        "          print(\"Epoch: {}, Loss: {}\".format(e, l))\n",
        "\n",
        "\n",
        "    def plot_performance(self):\n",
        "      '''\n",
        "      Plot training performance of model.\n",
        "      '''\n",
        "      try:\n",
        "        l_list = []\n",
        "        v_l_list = []\n",
        "        for _, l, v_l in self.history:\n",
        "          l_list.append(l)\n",
        "          v_l_list.append(v_l)\n",
        "        sns.set_theme(style=\"darkgrid\")\n",
        "        sns.lineplot(x=range(len(l_list)), y=l_list, label=\"Loss\")\n",
        "        sns.lineplot(x=range(len(l_list)), y=v_l_list, label=\"Validation Loss\")\n",
        "        plt.xlabel(\"Epochs\")\n",
        "        plt.ylabel(\"Loss\")\n",
        "        plt.legend()\n",
        "        plt.show()\n",
        "      except NameError:\n",
        "        print(\"Matplotlib.pyplot must be imported as 'plt'\\n Seaborn must be imported as 'sns'\")\n",
        "    \n",
        "\n",
        "    def get_model(self):\n",
        "      return self._sequential"
      ],
      "execution_count": 278,
      "outputs": []
    },
    {
      "cell_type": "markdown",
      "metadata": {
        "id": "a_2ufdaZmp9n"
      },
      "source": [
        "## Model Example"
      ]
    },
    {
      "cell_type": "code",
      "metadata": {
        "id": "lBslnRQbB-Fa"
      },
      "source": [
        "# Reset.\n",
        "df = pd.read_csv('housing.csv', index_col=None)\n",
        "\n",
        "X = df.iloc[:,:-1]\n",
        "y = df.iloc[:,-1]"
      ],
      "execution_count": 271,
      "outputs": []
    },
    {
      "cell_type": "code",
      "metadata": {
        "id": "-18rhHv68HkT"
      },
      "source": [
        "X_train, X_test, y_train, y_test = train_test_split(X,y)\n",
        "\n",
        "X_train, X_val, y_train, y_val = train_test_split(X_train, y_train, test_size=0.1)"
      ],
      "execution_count": 272,
      "outputs": []
    },
    {
      "cell_type": "code",
      "metadata": {
        "id": "3jyNi3YPqqaT"
      },
      "source": [
        "callbacks = {\n",
        "    \"verbose\" : True,\n",
        "    \"monitor\" : \"val_loss\",\n",
        "    \"patience\" : 8\n",
        "}"
      ],
      "execution_count": 279,
      "outputs": []
    },
    {
      "cell_type": "code",
      "metadata": {
        "colab": {
          "base_uri": "https://localhost:8080/"
        },
        "id": "vzdXy5rw_7uj",
        "outputId": "24ba637b-ac68-434b-d544-f51842aa2b1b"
      },
      "source": [
        "regressor = Regressor(X_train, nb_epoch=100)\n",
        "regressor.fit(X_train,y_train, mini_batch=None, callbacks=callbacks, validation_set=[X_val,y_val])"
      ],
      "execution_count": 280,
      "outputs": [
        {
          "output_type": "stream",
          "name": "stdout",
          "text": [
            "Epoch: 0, Loss: 0.18650345504283905, Val-Loss: 0.05481337010860443\n",
            "Epoch: 10, Loss: 0.037272389978170395, Val-Loss: 0.03629355505108833\n",
            "Epoch: 20, Loss: 0.027030011638998985, Val-Loss: 0.026815028861165047\n",
            "Epoch: 30, Loss: 0.02326125092804432, Val-Loss: 0.02472739666700363\n",
            "Epoch: 40, Loss: 0.021420981734991074, Val-Loss: 0.02273232862353325\n",
            "Epoch: 50, Loss: 0.02029547467827797, Val-Loss: 0.021417120471596718\n",
            "Epoch: 60, Loss: 0.01931287907063961, Val-Loss: 0.0202366691082716\n",
            "Epoch: 70, Loss: 0.018445009365677834, Val-Loss: 0.019272562116384506\n",
            "Epoch: 80, Loss: 0.017810164019465446, Val-Loss: 0.01874946616590023\n",
            "Epoch: 90, Loss: 0.01802382804453373, Val-Loss: 0.018317054957151413\n"
          ]
        },
        {
          "output_type": "execute_result",
          "data": {
            "text/plain": [
              "Regressor(\n",
              "  (_sequential): Sequential(\n",
              "    (0): Linear(in_features=8, out_features=1500, bias=True)\n",
              "    (1): ReLU()\n",
              "    (2): Linear(in_features=1500, out_features=500, bias=True)\n",
              "    (3): ReLU()\n",
              "    (4): Linear(in_features=500, out_features=300, bias=True)\n",
              "    (5): ReLU()\n",
              "    (6): Linear(in_features=300, out_features=1, bias=True)\n",
              "  )\n",
              ")"
            ]
          },
          "metadata": {},
          "execution_count": 280
        }
      ]
    },
    {
      "cell_type": "code",
      "metadata": {
        "colab": {
          "base_uri": "https://localhost:8080/"
        },
        "id": "QRzlHh6L56Dr",
        "outputId": "69a20a6d-2900-4053-ccb1-ca1a8b52a8c7"
      },
      "source": [
        "rmse = regressor.score(X_test, y_test)\n",
        "rmse"
      ],
      "execution_count": 281,
      "outputs": [
        {
          "output_type": "execute_result",
          "data": {
            "text/plain": [
              "61766.08169677652"
            ]
          },
          "metadata": {},
          "execution_count": 281
        }
      ]
    },
    {
      "cell_type": "code",
      "metadata": {
        "colab": {
          "base_uri": "https://localhost:8080/",
          "height": 284
        },
        "id": "zHgeMIV7h579",
        "outputId": "60e1c713-abf2-443a-c36a-82f5f07b33ce"
      },
      "source": [
        "regressor.plot_performance()"
      ],
      "execution_count": 282,
      "outputs": [
        {
          "output_type": "display_data",
          "data": {
            "image/png": "[encoded data removed]",
            "text/plain": [
              "<Figure size 432x288 with 1 Axes>"
            ]
          },
          "metadata": {}
        }
      ]
    },
    {
      "cell_type": "markdown",
      "metadata": {
        "id": "cEbOScrkB0hx"
      },
      "source": [
        "# Hyper-Parameter Tuning"
      ]
    },
    {
      "cell_type": "code",
      "metadata": {
        "id": "yZ66KYv2DzBA"
      },
      "source": [
        "# Reset.\n",
        "df = pd.read_csv('housing.csv', index_col=None)\n",
        "X = df.iloc[:,:-1]\n",
        "y = df.iloc[:,-1]\n",
        "\n",
        "columns=[\"optimizer\", \"learning_rate\", \"regularizer\", \"regularizer_lambda\", \"batch_size\", \"rmse\", \"model\", \"epoch\", \"train_time\"]\n",
        "df_hyper_param = pd.DataFrame(columns=columns)\n",
        "\n",
        "opt_list = [torch.optim.Adam, torch.optim.SGD, torch.optim.RMSprop]\n",
        "lr_list = [0.5e-2, 1e-3, 0.5e-3, 1e-4, 0.5e-4]\n",
        "mini_batch_list = [64,128,256,512,1024,2048,None]\n",
        "regularizer_list = [None, \"l1\", \"l2\"]\n",
        "lambda_decay_list = [1e-4, 0.5e-4, 1e-5, 0.5e-6]\n",
        "\n",
        "row_indx = 0\n",
        "for opt in opt_list:\n",
        "  # Get optimizer name as str.\n",
        "  opt_name = str(opt).split(\".\")[-1][:-2]\n",
        "  print(opt_name)\n",
        "\n",
        "  for lr in lr_list:\n",
        "    print(\"   lr:{}\".format(lr))\n",
        "\n",
        "    for mini_batch in mini_batch_list:\n",
        "      print(\"       mini_batch:{}\".format(mini_batch))\n",
        "      \n",
        "      for reg in regularizer_list:\n",
        "        print(\"           regularizer:{}\".format(reg))\n",
        "\n",
        "        for lambda_decay in lambda_decay_list:\n",
        "          print(\"             lambda_decay:{}\".format(lambda_decay if reg is not None else 0))\n",
        "          \n",
        "          # Split data.\n",
        "          X_train, X_test, y_train, y_test = train_test_split(X,y)\n",
        "          # Validation\n",
        "          X_train, X_val, y_train, y_val = train_test_split(X_train,y_train)\n",
        "\n",
        "          # Instance, fit, and score regressor model.\n",
        "          regressor = Regressor(X_train, nb_epoch=500)\n",
        "\n",
        "          # Time training process.\n",
        "          start_time = time.time()\n",
        "          regressor.fit(X_train,y_train, lr=lr, opt_func=opt, regularizer=reg, lambda_decay=lambda_decay, mini_batch=mini_batch, patience=8, validation_set=[X_val,y_val])\n",
        "          train_time = time.time() - start_time\n",
        "\n",
        "          rmse = regressor.score(X_test, y_test)\n",
        "\n",
        "          # Create hyperparameter dataframe.\n",
        "          df_hyper_param.loc[row_indx] = [\n",
        "                                          opt_name,\n",
        "                                          lr,\n",
        "                                          reg if reg is not None else \"l0\",\n",
        "                                          lambda_decay if reg is not None else np.NINF,\n",
        "                                          mini_batch if mini_batch is not None else np.inf,\n",
        "                                          rmse,\n",
        "                                          regressor, # model.\n",
        "                                          regressor.history[-1][0], # epochs trained.\n",
        "                                          train_time # Time taken to train.\n",
        "          ]\n",
        "\n",
        "          # Incremete row index.\n",
        "          row_indx+=1\n",
        "          \n",
        "          # If no regularizer than skip all but one lambda_decay training values.\n",
        "          if reg is None:\n",
        "            break"
      ],
      "execution_count": null,
      "outputs": []
    },
    {
      "cell_type": "code",
      "metadata": {
        "id": "M4i4V1-nYP-1"
      },
      "source": [
        "# from google.colab import files\n",
        "# save_dataframe(df_hyper_param)\n",
        "# files.download(\"part2_gridsearch_df.pickle\")"
      ],
      "execution_count": null,
      "outputs": []
    },
    {
      "cell_type": "code",
      "metadata": {
        "colab": {
          "base_uri": "https://localhost:8080/"
        },
        "id": "b_sxTO21hpq9",
        "outputId": "00b4160d-b189-48ce-8486-d15ecd1a8d52"
      },
      "source": [
        "# Cut all rows with rmse above cut\n",
        "cut = 200000\n",
        "cut_rows = len(df_hyper_param)\n",
        "df_hyper_param = df_hyper_param.query(\"rmse < {}\".format(cut))\n",
        "print(\"Cut {} records.\".format(cut_rows - len(df_hyper_param)))"
      ],
      "execution_count": null,
      "outputs": [
        {
          "output_type": "stream",
          "name": "stdout",
          "text": [
            "Cut 384 records.\n"
          ]
        }
      ]
    },
    {
      "cell_type": "code",
      "metadata": {
        "colab": {
          "base_uri": "https://localhost:8080/",
          "height": 747
        },
        "id": "lsyTGSRaPDS3",
        "outputId": "c9918cb9-0e1a-4c88-c481-0ccc298643fe"
      },
      "source": [
        "df_hyper_param"
      ],
      "execution_count": null,
      "outputs": [
        {
          "output_type": "execute_result",
          "data": {
            "text/html": [
              "<div>\n",
              "<style scoped>\n",
              "    .dataframe tbody tr th:only-of-type {\n",
              "        vertical-align: middle;\n",
              "    }\n",
              "\n",
              "    .dataframe tbody tr th {\n",
              "        vertical-align: top;\n",
              "    }\n",
              "\n",
              "    .dataframe thead th {\n",
              "        text-align: right;\n",
              "    }\n",
              "</style>\n",
              "<table border=\"1\" class=\"dataframe\">\n",
              "  <thead>\n",
              "    <tr style=\"text-align: right;\">\n",
              "      <th></th>\n",
              "      <th>optimizer</th>\n",
              "      <th>learning_rate</th>\n",
              "      <th>regularizer</th>\n",
              "      <th>regularizer_lambda</th>\n",
              "      <th>batch_size</th>\n",
              "      <th>rmse</th>\n",
              "      <th>model</th>\n",
              "      <th>epoch</th>\n",
              "      <th>train_time</th>\n",
              "    </tr>\n",
              "  </thead>\n",
              "  <tbody>\n",
              "    <tr>\n",
              "      <th>0</th>\n",
              "      <td>0</td>\n",
              "      <td>4</td>\n",
              "      <td>0</td>\n",
              "      <td>0</td>\n",
              "      <td>0</td>\n",
              "      <td>74799.992090</td>\n",
              "      <td>Regressor(\\n  (_sequential): Sequential(\\n    ...</td>\n",
              "      <td>0</td>\n",
              "      <td>3.784034</td>\n",
              "    </tr>\n",
              "    <tr>\n",
              "      <th>1</th>\n",
              "      <td>0</td>\n",
              "      <td>4</td>\n",
              "      <td>1</td>\n",
              "      <td>4</td>\n",
              "      <td>0</td>\n",
              "      <td>73957.612336</td>\n",
              "      <td>Regressor(\\n  (_sequential): Sequential(\\n    ...</td>\n",
              "      <td>0</td>\n",
              "      <td>3.766763</td>\n",
              "    </tr>\n",
              "    <tr>\n",
              "      <th>2</th>\n",
              "      <td>0</td>\n",
              "      <td>4</td>\n",
              "      <td>1</td>\n",
              "      <td>3</td>\n",
              "      <td>0</td>\n",
              "      <td>70405.400970</td>\n",
              "      <td>Regressor(\\n  (_sequential): Sequential(\\n    ...</td>\n",
              "      <td>0</td>\n",
              "      <td>3.792004</td>\n",
              "    </tr>\n",
              "    <tr>\n",
              "      <th>3</th>\n",
              "      <td>0</td>\n",
              "      <td>4</td>\n",
              "      <td>1</td>\n",
              "      <td>2</td>\n",
              "      <td>0</td>\n",
              "      <td>68412.443448</td>\n",
              "      <td>Regressor(\\n  (_sequential): Sequential(\\n    ...</td>\n",
              "      <td>0</td>\n",
              "      <td>3.998586</td>\n",
              "    </tr>\n",
              "    <tr>\n",
              "      <th>4</th>\n",
              "      <td>0</td>\n",
              "      <td>4</td>\n",
              "      <td>1</td>\n",
              "      <td>1</td>\n",
              "      <td>0</td>\n",
              "      <td>65125.157227</td>\n",
              "      <td>Regressor(\\n  (_sequential): Sequential(\\n    ...</td>\n",
              "      <td>0</td>\n",
              "      <td>3.948509</td>\n",
              "    </tr>\n",
              "    <tr>\n",
              "      <th>...</th>\n",
              "      <td>...</td>\n",
              "      <td>...</td>\n",
              "      <td>...</td>\n",
              "      <td>...</td>\n",
              "      <td>...</td>\n",
              "      <td>...</td>\n",
              "      <td>...</td>\n",
              "      <td>...</td>\n",
              "      <td>...</td>\n",
              "    </tr>\n",
              "    <tr>\n",
              "      <th>917</th>\n",
              "      <td>1</td>\n",
              "      <td>0</td>\n",
              "      <td>2</td>\n",
              "      <td>1</td>\n",
              "      <td>3</td>\n",
              "      <td>82471.097733</td>\n",
              "      <td>Regressor(\\n  (_sequential): Sequential(\\n    ...</td>\n",
              "      <td>0</td>\n",
              "      <td>1.524429</td>\n",
              "    </tr>\n",
              "    <tr>\n",
              "      <th>923</th>\n",
              "      <td>1</td>\n",
              "      <td>0</td>\n",
              "      <td>2</td>\n",
              "      <td>4</td>\n",
              "      <td>4</td>\n",
              "      <td>98388.651579</td>\n",
              "      <td>Regressor(\\n  (_sequential): Sequential(\\n    ...</td>\n",
              "      <td>0</td>\n",
              "      <td>1.346191</td>\n",
              "    </tr>\n",
              "    <tr>\n",
              "      <th>924</th>\n",
              "      <td>1</td>\n",
              "      <td>0</td>\n",
              "      <td>2</td>\n",
              "      <td>3</td>\n",
              "      <td>4</td>\n",
              "      <td>98846.036010</td>\n",
              "      <td>Regressor(\\n  (_sequential): Sequential(\\n    ...</td>\n",
              "      <td>0</td>\n",
              "      <td>1.356747</td>\n",
              "    </tr>\n",
              "    <tr>\n",
              "      <th>925</th>\n",
              "      <td>1</td>\n",
              "      <td>0</td>\n",
              "      <td>2</td>\n",
              "      <td>2</td>\n",
              "      <td>4</td>\n",
              "      <td>96730.942648</td>\n",
              "      <td>Regressor(\\n  (_sequential): Sequential(\\n    ...</td>\n",
              "      <td>0</td>\n",
              "      <td>1.357615</td>\n",
              "    </tr>\n",
              "    <tr>\n",
              "      <th>926</th>\n",
              "      <td>1</td>\n",
              "      <td>0</td>\n",
              "      <td>2</td>\n",
              "      <td>1</td>\n",
              "      <td>4</td>\n",
              "      <td>96923.406862</td>\n",
              "      <td>Regressor(\\n  (_sequential): Sequential(\\n    ...</td>\n",
              "      <td>0</td>\n",
              "      <td>1.388933</td>\n",
              "    </tr>\n",
              "  </tbody>\n",
              "</table>\n",
              "<p>319 rows × 9 columns</p>\n",
              "</div>"
            ],
            "text/plain": [
              "     optimizer  learning_rate  ...  epoch  train_time\n",
              "0            0              4  ...      0    3.784034\n",
              "1            0              4  ...      0    3.766763\n",
              "2            0              4  ...      0    3.792004\n",
              "3            0              4  ...      0    3.998586\n",
              "4            0              4  ...      0    3.948509\n",
              "..         ...            ...  ...    ...         ...\n",
              "917          1              0  ...      0    1.524429\n",
              "923          1              0  ...      0    1.346191\n",
              "924          1              0  ...      0    1.356747\n",
              "925          1              0  ...      0    1.357615\n",
              "926          1              0  ...      0    1.388933\n",
              "\n",
              "[319 rows x 9 columns]"
            ]
          },
          "metadata": {},
          "execution_count": 154
        }
      ]
    },
    {
      "cell_type": "markdown",
      "metadata": {
        "id": "oZboRsSdJsEe"
      },
      "source": [
        "# Parallel Coordinates"
      ]
    },
    {
      "cell_type": "code",
      "metadata": {
        "id": "oAtZAxxNt08T"
      },
      "source": [
        "import pandas as pd\n",
        "import numpy as np\n",
        "import plotly.graph_objects as go"
      ],
      "execution_count": null,
      "outputs": []
    },
    {
      "cell_type": "code",
      "metadata": {
        "id": "DJsqnjQAu37_"
      },
      "source": [
        "##########################################################################\n",
        "# Uncomment to create randomly generated df for parallel coordinates plot.\n",
        "##########################################################################\n",
        "\n",
        "# columns=[\"optimizer\", \"learning_rate\", \"regularizer\", \"regularizer_lambda\", \"batch_size\", \"rmse\", \"model\", \"train_time\"]\n",
        "# df_hyper_param = pd.DataFrame(columns=columns)\n",
        "# for i in range(100):\n",
        "#   df_hyper_param.loc[i] = [np.random.choice([\"Adam\",\"SGD\", \"RMSProp\"]),\n",
        "#                     np.random.choice([0.5e-2, 1e-3, 0.5e-3, 1e-4, 0.5e-4]),\n",
        "#                     np.random.choice([\"l0\", \"l1\", \"l2\"]),\n",
        "#                     np.random.choice([0.5e-2, 1e-3, 0.5e-3, 1e-4, 0.5e-4]),\n",
        "#                     np.random.choice([32,64,128,256,512,1024,2048, np.inf]),\n",
        "#                     np.random.randint(10000),\n",
        "#                     regressor,\n",
        "#                     np.random.randint(10)]"
      ],
      "execution_count": null,
      "outputs": []
    },
    {
      "cell_type": "code",
      "metadata": {
        "id": "t1ni6mo3DjJG"
      },
      "source": [
        "def enc_column(col_name, df):\n",
        "  '''\n",
        "  Function to convert dataframe column from datatype to label encoded integers.\n",
        "  Useful for plotting parallel coordinates.\n",
        "  '''\n",
        "\n",
        "  # Get sorted list of column names, ABC or 123.\n",
        "  col_names = list(df[col_name].unique())\n",
        "  col_names.sort()\n",
        "\n",
        "  # Dictionary to transform actual value to numeric label.\n",
        "  encoder = {name : i for i, name in enumerate(col_names)}\n",
        "  \n",
        "  # Function to return numeric label from actual value.\n",
        "  def col_enc(col_num):\n",
        "    return encoder[col_num]\n",
        "\n",
        "  # Mutate df dataframe in-place.\n",
        "  df[col_name] = df[col_name].apply(col_enc)\n",
        "\n",
        "  return col_names, df"
      ],
      "execution_count": null,
      "outputs": []
    },
    {
      "cell_type": "code",
      "metadata": {
        "id": "UQWJw5kOEPGR"
      },
      "source": [
        "# Label Encoding.\n",
        "opt_names, df_hyper_param = enc_column(\"optimizer\", df_hyper_param)\n",
        "\n",
        "lr_names, df_hyper_param = enc_column(\"learning_rate\", df_hyper_param)\n",
        "\n",
        "regularizer_names, df_hyper_param = enc_column(\"regularizer\", df_hyper_param)\n",
        "regularizer_names[0] = \"None\" # Indicates no regularization.\n",
        "\n",
        "regularizer_lambda_names, df_hyper_param = enc_column(\"regularizer_lambda\", df_hyper_param)\n",
        "regularizer_lambda_names[0] = \"None\" # Indicates no regularization so no decay.\n",
        "\n",
        "batch_names, df_hyper_param = enc_column(\"batch_size\", df_hyper_param)\n",
        "batch_names[-1] = \"None\" # Indicates no mini-batch."
      ],
      "execution_count": null,
      "outputs": []
    },
    {
      "cell_type": "code",
      "metadata": {
        "colab": {
          "base_uri": "https://localhost:8080/",
          "height": 542
        },
        "id": "zIBAgFgtx5kw",
        "outputId": "95e22c0a-9561-4aa1-b8d0-21cb8cad6fd8"
      },
      "source": [
        "fig = go.Figure(data=\n",
        "    go.Parcoords(\n",
        "        line = dict(color = df_hyper_param['rmse'],\n",
        "                   colorscale = [[0,'purple'],[0.5,'lightseagreen'],[1,'gold']]),\n",
        "                  #  colorscale = \"Electric\"),\n",
        "        dimensions = list([\n",
        "\n",
        "            dict(range = [df_hyper_param['optimizer'].min(), df_hyper_param['optimizer'].max()],\n",
        "                tickvals = list(range(len(opt_names))),\n",
        "                label = 'Optimizer', values = df_hyper_param['optimizer'],\n",
        "                ticktext = opt_names),\n",
        "            \n",
        "            dict(range = [df_hyper_param['learning_rate'].min(), df_hyper_param['learning_rate'].max()],\n",
        "                tickvals = list(range(len(lr_names))),\n",
        "                label = 'Learning Rate', values = df_hyper_param['learning_rate'],\n",
        "                ticktext = lr_names),\n",
        "            \n",
        "            dict(range = [df_hyper_param['regularizer'].min(), df_hyper_param['regularizer'].max()],\n",
        "                tickvals = list(range(len(regularizer_names))),\n",
        "                label = 'regularizer', values = df_hyper_param['regularizer'],\n",
        "                ticktext = regularizer_names),\n",
        "            \n",
        "            dict(range = [df_hyper_param['regularizer_lambda'].min(), df_hyper_param['regularizer_lambda'].max()],\n",
        "                tickvals = list(range(len(regularizer_lambda_names))),\n",
        "                label = 'regularizer_lambda', values = df_hyper_param['regularizer_lambda'],\n",
        "                ticktext = regularizer_lambda_names),\n",
        "            \n",
        "            dict(range = [df_hyper_param['batch_size'].min(), df_hyper_param['batch_size'].max()],\n",
        "                tickvals = list(range(len(batch_names))),\n",
        "                label = 'Batch Size', values = df_hyper_param['batch_size'],\n",
        "                ticktext = batch_names),\n",
        "            \n",
        "            dict(range = [df_hyper_param['rmse'].min(), df_hyper_param['rmse'].max()],\n",
        "                label = 'rmse', values = df_hyper_param['rmse']),\n",
        "        ])\n",
        "    )\n",
        ")\n",
        "\n",
        "fig.update_layout(\n",
        "    plot_bgcolor = 'white',\n",
        "    paper_bgcolor = 'white'\n",
        ")\n",
        "\n",
        "fig.show()"
      ],
      "execution_count": null,
      "outputs": [
        {
          "output_type": "display_data",
          "data": {
            "text/html": [
              "<html>\n",
              "<head><meta charset=\"utf-8\" /></head>\n",
              "<body>\n",
              "    <div>\n",
              "            <script src=\"https://cdnjs.cloudflare.com/ajax/libs/mathjax/2.7.5/MathJax.js?config=TeX-AMS-MML_SVG\"></script><script type=\"text/javascript\">if (window.MathJax) {MathJax.Hub.Config({SVG: {font: \"STIX-Web\"}});}</script>\n",
              "                <script type=\"text/javascript\">window.PlotlyConfig = {MathJaxConfig: 'local'};</script>\n",
              "        <script src=\"https://cdn.plot.ly/plotly-latest.min.js\"></script>    \n",
              "            <div id=\"798d0867-c819-4477-8642-4cf3252b6265\" class=\"plotly-graph-div\" style=\"height:525px; width:100%;\"></div>\n",
              "            <script type=\"text/javascript\">\n",
              "                \n",
              "                    window.PLOTLYENV=window.PLOTLYENV || {};\n",
              "                    \n",
              "                if (document.getElementById(\"798d0867-c819-4477-8642-4cf3252b6265\")) {\n",
              "                    Plotly.newPlot(\n",
              "                        '798d0867-c819-4477-8642-4cf3252b6265',\n",
              "                        [{\"dimensions\": [{\"label\": \"Optimizer\", \"range\": [0, 1], \"ticktext\": [0, 1], \"tickvals\": [0, 1], \"values\": [0, 0, 0, 0, 0, 0, 0, 0, 0, 0, 0, 0, 0, 0, 0, 0, 0, 0, 0, 0, 0, 0, 0, 0, 0, 0, 0, 0, 0, 0, 0, 0, 0, 0, 0, 0, 0, 0, 0, 0, 0, 0, 0, 0, 0, 0, 0, 0, 0, 0, 0, 0, 0, 0, 0, 0, 0, 0, 0, 0, 0, 0, 0, 0, 0, 0, 0, 0, 0, 0, 0, 0, 0, 0, 0, 0, 0, 0, 0, 0, 0, 0, 0, 0, 0, 0, 0, 0, 0, 0, 0, 0, 0, 0, 0, 0, 0, 0, 0, 0, 0, 0, 0, 0, 0, 0, 0, 0, 0, 0, 0, 0, 0, 0, 0, 0, 0, 0, 0, 0, 0, 0, 0, 0, 0, 0, 0, 0, 0, 0, 0, 0, 0, 0, 0, 0, 0, 0, 0, 0, 0, 0, 0, 0, 0, 0, 0, 0, 0, 0, 0, 0, 1, 1, 1, 1, 1, 1, 1, 1, 1, 1, 1, 1, 1, 1, 1, 1, 1, 1, 1, 1, 1, 1, 1, 1, 1, 1, 1, 1, 1, 1, 1, 1, 1, 1, 1, 1, 1, 1, 1, 1, 1, 1, 1, 1, 1, 1, 1, 1, 1, 1, 1, 1, 1, 1, 1, 1, 1, 1, 1, 1, 1, 1, 1, 1, 1, 1, 1, 1, 1, 1, 1, 1, 1, 1, 1, 1, 1, 1, 1, 1, 1, 1, 1, 1, 1, 1, 1, 1, 1, 1, 1, 1, 1, 1, 1, 1, 1, 1, 1, 1, 1, 1, 1, 1, 1, 1, 1, 1, 1, 1, 1, 1, 1, 1, 1, 1, 1, 1, 1, 1, 1, 1, 1, 1, 1, 1, 1, 1, 1, 1, 1, 1, 1, 1, 1, 1, 1, 1, 1, 1, 1, 1, 1, 1, 1, 1, 1, 1, 1, 1, 1, 1, 1, 1, 1, 1, 1, 1, 1, 1, 1, 1, 1, 1, 1, 1, 1]}, {\"label\": \"Learning Rate\", \"range\": [0, 4], \"ticktext\": [0, 1, 2, 3, 4], \"tickvals\": [0, 1, 2, 3, 4], \"values\": [4, 4, 4, 4, 4, 4, 4, 4, 4, 4, 4, 4, 4, 4, 4, 4, 4, 4, 4, 4, 4, 4, 4, 4, 4, 4, 4, 4, 4, 4, 4, 4, 4, 3, 3, 3, 3, 3, 3, 3, 3, 3, 3, 3, 3, 3, 3, 3, 3, 3, 3, 3, 3, 3, 3, 3, 3, 3, 3, 3, 3, 3, 3, 3, 3, 3, 3, 3, 3, 3, 3, 3, 3, 3, 2, 2, 2, 2, 2, 2, 2, 2, 2, 2, 2, 2, 2, 2, 2, 2, 2, 2, 2, 2, 2, 2, 2, 2, 2, 2, 2, 2, 2, 2, 2, 2, 2, 2, 2, 1, 1, 1, 1, 1, 1, 1, 1, 1, 1, 1, 1, 1, 1, 1, 1, 1, 1, 1, 1, 1, 1, 1, 1, 1, 1, 0, 0, 0, 0, 0, 0, 0, 0, 0, 0, 0, 0, 0, 0, 0, 0, 0, 4, 4, 4, 4, 4, 4, 4, 4, 4, 4, 4, 4, 4, 4, 4, 4, 4, 4, 4, 4, 4, 4, 4, 4, 3, 3, 3, 3, 3, 3, 3, 3, 3, 3, 3, 3, 3, 3, 3, 3, 3, 3, 3, 3, 3, 3, 3, 3, 3, 3, 3, 3, 3, 3, 3, 2, 2, 2, 2, 2, 2, 2, 2, 2, 2, 2, 2, 2, 2, 2, 2, 2, 2, 2, 2, 2, 2, 2, 2, 2, 2, 2, 2, 2, 2, 2, 2, 1, 1, 1, 1, 1, 1, 1, 1, 1, 1, 1, 1, 1, 1, 1, 1, 1, 1, 1, 1, 1, 1, 1, 1, 1, 1, 1, 1, 1, 1, 1, 1, 1, 1, 1, 1, 1, 1, 1, 1, 0, 0, 0, 0, 0, 0, 0, 0, 0, 0, 0, 0, 0, 0, 0, 0, 0, 0, 0, 0, 0, 0, 0, 0, 0, 0, 0, 0, 0, 0, 0, 0, 0, 0, 0, 0, 0, 0, 0, 0]}, {\"label\": \"regularizer\", \"range\": [0, 2], \"ticktext\": [\"None\", 1, 2], \"tickvals\": [0, 1, 2], \"values\": [0, 1, 1, 1, 1, 2, 2, 2, 2, 0, 1, 1, 1, 1, 2, 2, 2, 2, 0, 1, 1, 1, 1, 2, 2, 2, 2, 1, 1, 2, 2, 2, 2, 0, 1, 1, 1, 1, 2, 2, 2, 2, 0, 1, 1, 1, 1, 2, 2, 2, 2, 0, 1, 1, 1, 1, 2, 2, 2, 2, 0, 1, 1, 1, 1, 2, 2, 2, 2, 0, 1, 1, 2, 2, 0, 1, 1, 1, 1, 2, 2, 2, 2, 0, 1, 1, 1, 1, 2, 2, 2, 2, 0, 1, 1, 1, 1, 2, 2, 2, 2, 0, 1, 1, 1, 2, 2, 2, 2, 0, 1, 1, 1, 1, 2, 2, 2, 2, 0, 1, 1, 1, 1, 2, 2, 2, 2, 0, 1, 1, 1, 2, 2, 2, 2, 0, 1, 1, 1, 1, 2, 2, 2, 2, 0, 1, 1, 1, 2, 2, 2, 2, 0, 1, 1, 1, 1, 2, 2, 2, 0, 1, 1, 1, 1, 2, 2, 2, 0, 1, 1, 2, 2, 2, 2, 2, 0, 1, 1, 1, 1, 2, 2, 2, 2, 0, 1, 1, 1, 1, 2, 2, 2, 2, 0, 1, 1, 1, 2, 2, 2, 2, 0, 2, 2, 2, 2, 0, 1, 1, 1, 1, 2, 2, 2, 2, 0, 1, 1, 1, 1, 2, 2, 2, 2, 0, 1, 1, 1, 1, 2, 2, 2, 2, 0, 1, 2, 2, 2, 0, 1, 1, 1, 1, 2, 2, 2, 2, 0, 1, 1, 1, 1, 2, 2, 2, 2, 0, 1, 1, 1, 1, 2, 2, 2, 2, 0, 1, 1, 1, 1, 2, 2, 2, 2, 0, 1, 2, 2, 0, 1, 1, 1, 1, 2, 2, 2, 2, 0, 1, 1, 1, 1, 2, 2, 2, 2, 0, 1, 1, 1, 1, 2, 2, 2, 2, 0, 1, 1, 1, 1, 2, 2, 2, 2, 2, 2, 2, 2]}, {\"label\": \"regularizer_lambda\", \"range\": [0, 4], \"ticktext\": [\"None\", 1, 2, 3, 4], \"tickvals\": [0, 1, 2, 3, 4], \"values\": [0, 4, 3, 2, 1, 4, 3, 2, 1, 0, 4, 3, 2, 1, 4, 3, 2, 1, 0, 4, 3, 2, 1, 4, 3, 2, 1, 3, 2, 4, 3, 2, 1, 0, 4, 3, 2, 1, 4, 3, 2, 1, 0, 4, 3, 2, 1, 4, 3, 2, 1, 0, 4, 3, 2, 1, 4, 3, 2, 1, 0, 4, 3, 2, 1, 4, 3, 2, 1, 0, 2, 1, 4, 2, 0, 4, 3, 2, 1, 4, 3, 2, 1, 0, 4, 3, 2, 1, 4, 3, 2, 1, 0, 4, 3, 2, 1, 4, 3, 2, 1, 0, 4, 2, 1, 4, 3, 2, 1, 0, 4, 3, 2, 1, 4, 3, 2, 1, 0, 4, 3, 2, 1, 4, 3, 2, 1, 0, 3, 2, 1, 4, 3, 2, 1, 0, 4, 3, 2, 1, 4, 3, 2, 1, 0, 3, 2, 1, 4, 3, 2, 1, 0, 4, 3, 2, 1, 4, 3, 1, 0, 4, 3, 2, 1, 4, 3, 1, 0, 2, 1, 4, 3, 2, 1, 1, 0, 4, 3, 2, 1, 4, 3, 2, 1, 0, 4, 3, 2, 1, 4, 3, 2, 1, 0, 3, 2, 1, 4, 3, 2, 1, 0, 4, 3, 2, 1, 0, 4, 3, 2, 1, 4, 3, 2, 1, 0, 4, 3, 2, 1, 4, 3, 2, 1, 0, 4, 3, 2, 1, 4, 3, 2, 1, 0, 2, 4, 3, 1, 0, 4, 3, 2, 1, 4, 3, 2, 1, 0, 4, 3, 2, 1, 4, 3, 2, 1, 0, 4, 3, 2, 1, 4, 3, 2, 1, 0, 4, 3, 2, 1, 4, 3, 2, 1, 0, 1, 4, 2, 0, 4, 3, 2, 1, 4, 3, 2, 1, 0, 4, 3, 2, 1, 4, 3, 2, 1, 0, 4, 3, 2, 1, 4, 3, 2, 1, 0, 4, 3, 2, 1, 4, 3, 2, 1, 4, 3, 2, 1]}, {\"label\": \"Batch Size\", \"range\": [0, 4], \"ticktext\": [0, 1, 2, 3, \"None\"], \"tickvals\": [0, 1, 2, 3, 4], \"values\": [0, 0, 0, 0, 0, 0, 0, 0, 0, 1, 1, 1, 1, 1, 1, 1, 1, 1, 2, 2, 2, 2, 2, 2, 2, 2, 2, 3, 3, 3, 3, 3, 3, 0, 0, 0, 0, 0, 0, 0, 0, 0, 1, 1, 1, 1, 1, 1, 1, 1, 1, 2, 2, 2, 2, 2, 2, 2, 2, 2, 3, 3, 3, 3, 3, 3, 3, 3, 3, 4, 4, 4, 4, 4, 0, 0, 0, 0, 0, 0, 0, 0, 0, 1, 1, 1, 1, 1, 1, 1, 1, 1, 2, 2, 2, 2, 2, 2, 2, 2, 2, 3, 3, 3, 3, 3, 3, 3, 3, 0, 0, 0, 0, 0, 0, 0, 0, 0, 1, 1, 1, 1, 1, 1, 1, 1, 1, 2, 2, 2, 2, 2, 2, 2, 2, 0, 0, 0, 0, 0, 0, 0, 0, 0, 1, 1, 1, 1, 1, 1, 1, 1, 0, 0, 0, 0, 0, 0, 0, 0, 1, 1, 1, 1, 1, 1, 1, 1, 2, 2, 2, 2, 2, 2, 2, 3, 0, 0, 0, 0, 0, 0, 0, 0, 0, 1, 1, 1, 1, 1, 1, 1, 1, 1, 2, 2, 2, 2, 2, 2, 2, 2, 3, 3, 3, 3, 3, 0, 0, 0, 0, 0, 0, 0, 0, 0, 1, 1, 1, 1, 1, 1, 1, 1, 1, 2, 2, 2, 2, 2, 2, 2, 2, 2, 3, 3, 3, 3, 3, 0, 0, 0, 0, 0, 0, 0, 0, 0, 1, 1, 1, 1, 1, 1, 1, 1, 1, 2, 2, 2, 2, 2, 2, 2, 2, 2, 3, 3, 3, 3, 3, 3, 3, 3, 3, 4, 4, 4, 4, 0, 0, 0, 0, 0, 0, 0, 0, 0, 1, 1, 1, 1, 1, 1, 1, 1, 1, 2, 2, 2, 2, 2, 2, 2, 2, 2, 3, 3, 3, 3, 3, 3, 3, 3, 3, 4, 4, 4, 4]}, {\"label\": \"rmse\", \"range\": [64398.25225604445, 99775.75470798991], \"values\": [74799.99208967945, 73957.61233552388, 70405.4009698628, 68412.44344768584, 65125.15722707762, 77179.062442867, 69412.87124589962, 68494.20723317732, 64630.62671017974, 69703.22545727802, 71548.25698968889, 72812.58757748411, 71835.70702983752, 76287.89440863558, 69322.50601495542, 72696.53197405562, 66863.59403515176, 67956.7979364477, 80063.66796837193, 74855.86574761332, 74110.51267997571, 72487.54316751042, 75612.95321071317, 76594.1651833784, 74898.45575400471, 75603.78388010805, 79525.55564313171, 95911.42470054344, 97337.93639673325, 82529.86776330891, 90868.65416555696, 85016.60489193852, 90509.78349336368, 67363.3121149194, 78160.53425584709, 73739.3310460853, 67805.33449056918, 65174.05195721404, 70036.06631044847, 68381.47631614337, 86750.28702454481, 66143.84692129934, 65515.17129650037, 73478.37952794248, 73078.8030717347, 70721.5727717051, 66813.91875634297, 69408.45588687104, 72570.55048961684, 67676.05068733753, 67866.13684802942, 72711.96857345785, 79315.93253711615, 74347.04380036886, 72263.47188738092, 69990.42509989956, 78891.07981672336, 76595.65635621118, 74519.84359842916, 75637.63998960421, 80874.11846651035, 91304.2675649456, 80764.1173818625, 76292.99123887946, 83647.61033259425, 80352.90719758558, 78021.75817254078, 90851.90079517229, 87916.11585798187, 92222.84407347713, 88651.71406415281, 93783.09351850055, 95703.55220784385, 83788.23865344797, 67466.79340378265, 73379.27591086434, 82672.79131884068, 72589.95417581905, 64398.25225604445, 70391.34245894256, 66113.36718403098, 68067.45630270975, 66427.6435616329, 69298.57944455532, 77689.44220425836, 74311.79948521631, 71029.38040453118, 71366.57810437138, 70615.03645871722, 70920.9300856634, 69540.61124134356, 70493.52365739788, 72197.0197332932, 82387.01337367958, 75280.28516571542, 75373.17918213781, 73439.76463793345, 74310.37834104525, 75431.17166764081, 78733.98727442537, 73485.87645266691, 90738.27948273103, 97261.1421043215, 91226.46906873601, 94788.02992694997, 88424.62217709357, 86586.37788399484, 92237.87834991881, 83115.97253904752, 72459.82230803667, 80718.22301840225, 73690.4921459316, 73623.14289098217, 72455.9259500439, 73637.57155748163, 74555.4190778005, 72383.71907296509, 71908.15139930573, 74827.96853749802, 82867.24935175375, 76650.45261551974, 75443.27149760115, 73024.09397806194, 75457.29727252985, 75064.66622409505, 78668.63199795643, 74755.05126504847, 99320.67483422566, 97407.90344314683, 89633.9213652518, 92684.13165071634, 98885.62885195506, 95471.179995606, 93087.90203319404, 96813.4622036174, 74098.39534787444, 77957.96734150853, 78339.36905532713, 74465.94220585354, 75683.25860089462, 73082.43040839829, 71777.23126128294, 75587.23189675863, 72441.0271137943, 90588.86306192732, 97225.15067659275, 92522.40643636367, 89193.32936207918, 92991.22534542232, 91873.0804681685, 80045.75054884913, 86178.74546233521, 70926.75356632646, 76619.40058429062, 93985.65604927127, 81708.09679689669, 72756.43743694229, 91978.1563052807, 82744.94010262123, 82245.81561954341, 72640.47555239915, 90222.39156813125, 86668.2088437196, 88660.6112859113, 78952.61824337748, 99580.35378631682, 77934.50876680933, 87225.83282441524, 95511.6745858551, 98151.55308333188, 91702.42449606916, 92692.58565435941, 82927.33066130838, 98911.81057252707, 79451.1788029837, 99775.75470798991, 69504.81937195157, 76050.44945455417, 82390.39817231585, 73945.6994434703, 83344.80760811619, 72948.06246681842, 72083.02765464627, 68457.2273350476, 68593.46338850714, 80904.0792349643, 96499.77004159437, 82552.5440625046, 77899.3926073164, 71253.70460039229, 78902.79151893861, 82847.34861746378, 78637.16340279604, 77723.61526191919, 75733.20179732623, 89189.00983597204, 87361.17698297845, 86123.32514393916, 76496.57108719887, 80882.5850941652, 81858.26627125917, 73200.66535278103, 92920.9469782377, 95465.40717910492, 97147.88892334614, 83599.96182233654, 92577.649048601, 76169.38024915359, 73100.47208244476, 91878.46617857616, 82046.34485664632, 75899.55758388675, 76088.43367924086, 81536.9290588275, 68613.97164121186, 67798.29858704869, 73669.45648088044, 96230.37705841029, 88246.93469451636, 85719.59274761735, 75450.69892081057, 80138.16800759675, 74201.3868993236, 75639.49388203655, 70412.9264621814, 84823.09915631039, 96555.87928857472, 85272.82289206359, 78720.27892033511, 74821.0056617047, 76453.56257297166, 77581.65895267221, 79695.49812374877, 78085.1717963192, 92153.0825220661, 98638.51182975419, 92813.64133082924, 90726.45917242017, 84454.17539550114, 77003.40539253411, 96017.14152498856, 73582.29751772864, 73187.51604653297, 68944.70008709336, 71031.27639920636, 70291.43680774113, 73956.88894491513, 70957.43280255474, 71343.54406559085, 78110.95375625882, 78059.05278059325, 74538.07295615172, 74494.83010198067, 74800.35224081903, 74152.0664083947, 74736.6640473135, 74283.93016196099, 74112.96257690253, 92768.24394940109, 82349.35325034698, 85347.08120990767, 83188.72040618616, 92269.6974322555, 75927.66715216557, 85222.86071852922, 79085.58996097835, 86723.39513463208, 92601.92731415301, 87739.86801650027, 88771.03996477246, 82773.9352095194, 89255.37044027721, 86501.61578881426, 84910.70441178478, 83968.25185976192, 99544.802072774, 90696.54844044845, 99520.9384590319, 98664.31352323799, 74917.89692072457, 76193.48410061987, 71803.2028835946, 73557.0762331437, 69226.26379869317, 70027.87124005335, 71351.92279913003, 72033.34444821774, 70553.99939972111, 73799.45576175276, 76757.3347359082, 76870.53416518586, 74509.77562020932, 71302.22516058042, 72723.36682635594, 74675.3456976657, 76962.88990541425, 75185.93431232433, 75434.86920622217, 90938.95451314964, 88389.00403526155, 84656.89024032046, 81094.56532251963, 94327.0250920196, 77778.15684827183, 77640.12933750128, 75093.59736544339, 86222.56934145754, 92919.12504271067, 87898.14822605903, 91233.7606464484, 86455.28978759199, 86886.46403086722, 85888.89659498146, 85387.36893438696, 82471.09773285272, 98388.65157874089, 98846.0360097301, 96730.94264774508, 96923.40686246008]}], \"line\": {\"color\": [74799.99208967945, 73957.61233552388, 70405.4009698628, 68412.44344768584, 65125.15722707762, 77179.062442867, 69412.87124589962, 68494.20723317732, 64630.62671017974, 69703.22545727802, 71548.25698968889, 72812.58757748411, 71835.70702983752, 76287.89440863558, 69322.50601495542, 72696.53197405562, 66863.59403515176, 67956.7979364477, 80063.66796837193, 74855.86574761332, 74110.51267997571, 72487.54316751042, 75612.95321071317, 76594.1651833784, 74898.45575400471, 75603.78388010805, 79525.55564313171, 95911.42470054344, 97337.93639673325, 82529.86776330891, 90868.65416555696, 85016.60489193852, 90509.78349336368, 67363.3121149194, 78160.53425584709, 73739.3310460853, 67805.33449056918, 65174.05195721404, 70036.06631044847, 68381.47631614337, 86750.28702454481, 66143.84692129934, 65515.17129650037, 73478.37952794248, 73078.8030717347, 70721.5727717051, 66813.91875634297, 69408.45588687104, 72570.55048961684, 67676.05068733753, 67866.13684802942, 72711.96857345785, 79315.93253711615, 74347.04380036886, 72263.47188738092, 69990.42509989956, 78891.07981672336, 76595.65635621118, 74519.84359842916, 75637.63998960421, 80874.11846651035, 91304.2675649456, 80764.1173818625, 76292.99123887946, 83647.61033259425, 80352.90719758558, 78021.75817254078, 90851.90079517229, 87916.11585798187, 92222.84407347713, 88651.71406415281, 93783.09351850055, 95703.55220784385, 83788.23865344797, 67466.79340378265, 73379.27591086434, 82672.79131884068, 72589.95417581905, 64398.25225604445, 70391.34245894256, 66113.36718403098, 68067.45630270975, 66427.6435616329, 69298.57944455532, 77689.44220425836, 74311.79948521631, 71029.38040453118, 71366.57810437138, 70615.03645871722, 70920.9300856634, 69540.61124134356, 70493.52365739788, 72197.0197332932, 82387.01337367958, 75280.28516571542, 75373.17918213781, 73439.76463793345, 74310.37834104525, 75431.17166764081, 78733.98727442537, 73485.87645266691, 90738.27948273103, 97261.1421043215, 91226.46906873601, 94788.02992694997, 88424.62217709357, 86586.37788399484, 92237.87834991881, 83115.97253904752, 72459.82230803667, 80718.22301840225, 73690.4921459316, 73623.14289098217, 72455.9259500439, 73637.57155748163, 74555.4190778005, 72383.71907296509, 71908.15139930573, 74827.96853749802, 82867.24935175375, 76650.45261551974, 75443.27149760115, 73024.09397806194, 75457.29727252985, 75064.66622409505, 78668.63199795643, 74755.05126504847, 99320.67483422566, 97407.90344314683, 89633.9213652518, 92684.13165071634, 98885.62885195506, 95471.179995606, 93087.90203319404, 96813.4622036174, 74098.39534787444, 77957.96734150853, 78339.36905532713, 74465.94220585354, 75683.25860089462, 73082.43040839829, 71777.23126128294, 75587.23189675863, 72441.0271137943, 90588.86306192732, 97225.15067659275, 92522.40643636367, 89193.32936207918, 92991.22534542232, 91873.0804681685, 80045.75054884913, 86178.74546233521, 70926.75356632646, 76619.40058429062, 93985.65604927127, 81708.09679689669, 72756.43743694229, 91978.1563052807, 82744.94010262123, 82245.81561954341, 72640.47555239915, 90222.39156813125, 86668.2088437196, 88660.6112859113, 78952.61824337748, 99580.35378631682, 77934.50876680933, 87225.83282441524, 95511.6745858551, 98151.55308333188, 91702.42449606916, 92692.58565435941, 82927.33066130838, 98911.81057252707, 79451.1788029837, 99775.75470798991, 69504.81937195157, 76050.44945455417, 82390.39817231585, 73945.6994434703, 83344.80760811619, 72948.06246681842, 72083.02765464627, 68457.2273350476, 68593.46338850714, 80904.0792349643, 96499.77004159437, 82552.5440625046, 77899.3926073164, 71253.70460039229, 78902.79151893861, 82847.34861746378, 78637.16340279604, 77723.61526191919, 75733.20179732623, 89189.00983597204, 87361.17698297845, 86123.32514393916, 76496.57108719887, 80882.5850941652, 81858.26627125917, 73200.66535278103, 92920.9469782377, 95465.40717910492, 97147.88892334614, 83599.96182233654, 92577.649048601, 76169.38024915359, 73100.47208244476, 91878.46617857616, 82046.34485664632, 75899.55758388675, 76088.43367924086, 81536.9290588275, 68613.97164121186, 67798.29858704869, 73669.45648088044, 96230.37705841029, 88246.93469451636, 85719.59274761735, 75450.69892081057, 80138.16800759675, 74201.3868993236, 75639.49388203655, 70412.9264621814, 84823.09915631039, 96555.87928857472, 85272.82289206359, 78720.27892033511, 74821.0056617047, 76453.56257297166, 77581.65895267221, 79695.49812374877, 78085.1717963192, 92153.0825220661, 98638.51182975419, 92813.64133082924, 90726.45917242017, 84454.17539550114, 77003.40539253411, 96017.14152498856, 73582.29751772864, 73187.51604653297, 68944.70008709336, 71031.27639920636, 70291.43680774113, 73956.88894491513, 70957.43280255474, 71343.54406559085, 78110.95375625882, 78059.05278059325, 74538.07295615172, 74494.83010198067, 74800.35224081903, 74152.0664083947, 74736.6640473135, 74283.93016196099, 74112.96257690253, 92768.24394940109, 82349.35325034698, 85347.08120990767, 83188.72040618616, 92269.6974322555, 75927.66715216557, 85222.86071852922, 79085.58996097835, 86723.39513463208, 92601.92731415301, 87739.86801650027, 88771.03996477246, 82773.9352095194, 89255.37044027721, 86501.61578881426, 84910.70441178478, 83968.25185976192, 99544.802072774, 90696.54844044845, 99520.9384590319, 98664.31352323799, 74917.89692072457, 76193.48410061987, 71803.2028835946, 73557.0762331437, 69226.26379869317, 70027.87124005335, 71351.92279913003, 72033.34444821774, 70553.99939972111, 73799.45576175276, 76757.3347359082, 76870.53416518586, 74509.77562020932, 71302.22516058042, 72723.36682635594, 74675.3456976657, 76962.88990541425, 75185.93431232433, 75434.86920622217, 90938.95451314964, 88389.00403526155, 84656.89024032046, 81094.56532251963, 94327.0250920196, 77778.15684827183, 77640.12933750128, 75093.59736544339, 86222.56934145754, 92919.12504271067, 87898.14822605903, 91233.7606464484, 86455.28978759199, 86886.46403086722, 85888.89659498146, 85387.36893438696, 82471.09773285272, 98388.65157874089, 98846.0360097301, 96730.94264774508, 96923.40686246008], \"colorscale\": [[0, \"purple\"], [0.5, \"lightseagreen\"], [1, \"gold\"]]}, \"type\": \"parcoords\"}],\n",
              "                        {\"paper_bgcolor\": \"white\", \"plot_bgcolor\": \"white\", \"template\": {\"data\": {\"bar\": [{\"error_x\": {\"color\": \"#2a3f5f\"}, \"error_y\": {\"color\": \"#2a3f5f\"}, \"marker\": {\"line\": {\"color\": \"#E5ECF6\", \"width\": 0.5}}, \"type\": \"bar\"}], \"barpolar\": [{\"marker\": {\"line\": {\"color\": \"#E5ECF6\", \"width\": 0.5}}, \"type\": \"barpolar\"}], \"carpet\": [{\"aaxis\": {\"endlinecolor\": \"#2a3f5f\", \"gridcolor\": \"white\", \"linecolor\": \"white\", \"minorgridcolor\": \"white\", \"startlinecolor\": \"#2a3f5f\"}, \"baxis\": {\"endlinecolor\": \"#2a3f5f\", \"gridcolor\": \"white\", \"linecolor\": \"white\", \"minorgridcolor\": \"white\", \"startlinecolor\": \"#2a3f5f\"}, \"type\": \"carpet\"}], \"choropleth\": [{\"colorbar\": {\"outlinewidth\": 0, \"ticks\": \"\"}, \"type\": \"choropleth\"}], \"contour\": [{\"colorbar\": {\"outlinewidth\": 0, \"ticks\": \"\"}, \"colorscale\": [[0.0, \"#0d0887\"], [0.1111111111111111, \"#46039f\"], [0.2222222222222222, \"#7201a8\"], [0.3333333333333333, \"#9c179e\"], [0.4444444444444444, \"#bd3786\"], [0.5555555555555556, \"#d8576b\"], [0.6666666666666666, \"#ed7953\"], [0.7777777777777778, \"#fb9f3a\"], [0.8888888888888888, \"#fdca26\"], [1.0, \"#f0f921\"]], \"type\": \"contour\"}], \"contourcarpet\": [{\"colorbar\": {\"outlinewidth\": 0, \"ticks\": \"\"}, \"type\": \"contourcarpet\"}], \"heatmap\": [{\"colorbar\": {\"outlinewidth\": 0, \"ticks\": \"\"}, \"colorscale\": [[0.0, \"#0d0887\"], [0.1111111111111111, \"#46039f\"], [0.2222222222222222, \"#7201a8\"], [0.3333333333333333, \"#9c179e\"], [0.4444444444444444, \"#bd3786\"], [0.5555555555555556, \"#d8576b\"], [0.6666666666666666, \"#ed7953\"], [0.7777777777777778, \"#fb9f3a\"], [0.8888888888888888, \"#fdca26\"], [1.0, \"#f0f921\"]], \"type\": \"heatmap\"}], \"heatmapgl\": [{\"colorbar\": {\"outlinewidth\": 0, \"ticks\": \"\"}, \"colorscale\": [[0.0, \"#0d0887\"], [0.1111111111111111, \"#46039f\"], [0.2222222222222222, \"#7201a8\"], [0.3333333333333333, \"#9c179e\"], [0.4444444444444444, \"#bd3786\"], [0.5555555555555556, \"#d8576b\"], [0.6666666666666666, \"#ed7953\"], [0.7777777777777778, \"#fb9f3a\"], [0.8888888888888888, \"#fdca26\"], [1.0, \"#f0f921\"]], \"type\": \"heatmapgl\"}], \"histogram\": [{\"marker\": {\"colorbar\": {\"outlinewidth\": 0, \"ticks\": \"\"}}, \"type\": \"histogram\"}], \"histogram2d\": [{\"colorbar\": {\"outlinewidth\": 0, \"ticks\": \"\"}, \"colorscale\": [[0.0, \"#0d0887\"], [0.1111111111111111, \"#46039f\"], [0.2222222222222222, \"#7201a8\"], [0.3333333333333333, \"#9c179e\"], [0.4444444444444444, \"#bd3786\"], [0.5555555555555556, \"#d8576b\"], [0.6666666666666666, \"#ed7953\"], [0.7777777777777778, \"#fb9f3a\"], [0.8888888888888888, \"#fdca26\"], [1.0, \"#f0f921\"]], \"type\": \"histogram2d\"}], \"histogram2dcontour\": [{\"colorbar\": {\"outlinewidth\": 0, \"ticks\": \"\"}, \"colorscale\": [[0.0, \"#0d0887\"], [0.1111111111111111, \"#46039f\"], [0.2222222222222222, \"#7201a8\"], [0.3333333333333333, \"#9c179e\"], [0.4444444444444444, \"#bd3786\"], [0.5555555555555556, \"#d8576b\"], [0.6666666666666666, \"#ed7953\"], [0.7777777777777778, \"#fb9f3a\"], [0.8888888888888888, \"#fdca26\"], [1.0, \"#f0f921\"]], \"type\": \"histogram2dcontour\"}], \"mesh3d\": [{\"colorbar\": {\"outlinewidth\": 0, \"ticks\": \"\"}, \"type\": \"mesh3d\"}], \"parcoords\": [{\"line\": {\"colorbar\": {\"outlinewidth\": 0, \"ticks\": \"\"}}, \"type\": \"parcoords\"}], \"pie\": [{\"automargin\": true, \"type\": \"pie\"}], \"scatter\": [{\"marker\": {\"colorbar\": {\"outlinewidth\": 0, \"ticks\": \"\"}}, \"type\": \"scatter\"}], \"scatter3d\": [{\"line\": {\"colorbar\": {\"outlinewidth\": 0, \"ticks\": \"\"}}, \"marker\": {\"colorbar\": {\"outlinewidth\": 0, \"ticks\": \"\"}}, \"type\": \"scatter3d\"}], \"scattercarpet\": [{\"marker\": {\"colorbar\": {\"outlinewidth\": 0, \"ticks\": \"\"}}, \"type\": \"scattercarpet\"}], \"scattergeo\": [{\"marker\": {\"colorbar\": {\"outlinewidth\": 0, \"ticks\": \"\"}}, \"type\": \"scattergeo\"}], \"scattergl\": [{\"marker\": {\"colorbar\": {\"outlinewidth\": 0, \"ticks\": \"\"}}, \"type\": \"scattergl\"}], \"scattermapbox\": [{\"marker\": {\"colorbar\": {\"outlinewidth\": 0, \"ticks\": \"\"}}, \"type\": \"scattermapbox\"}], \"scatterpolar\": [{\"marker\": {\"colorbar\": {\"outlinewidth\": 0, \"ticks\": \"\"}}, \"type\": \"scatterpolar\"}], \"scatterpolargl\": [{\"marker\": {\"colorbar\": {\"outlinewidth\": 0, \"ticks\": \"\"}}, \"type\": \"scatterpolargl\"}], \"scatterternary\": [{\"marker\": {\"colorbar\": {\"outlinewidth\": 0, \"ticks\": \"\"}}, \"type\": \"scatterternary\"}], \"surface\": [{\"colorbar\": {\"outlinewidth\": 0, \"ticks\": \"\"}, \"colorscale\": [[0.0, \"#0d0887\"], [0.1111111111111111, \"#46039f\"], [0.2222222222222222, \"#7201a8\"], [0.3333333333333333, \"#9c179e\"], [0.4444444444444444, \"#bd3786\"], [0.5555555555555556, \"#d8576b\"], [0.6666666666666666, \"#ed7953\"], [0.7777777777777778, \"#fb9f3a\"], [0.8888888888888888, \"#fdca26\"], [1.0, \"#f0f921\"]], \"type\": \"surface\"}], \"table\": [{\"cells\": {\"fill\": {\"color\": \"#EBF0F8\"}, \"line\": {\"color\": \"white\"}}, \"header\": {\"fill\": {\"color\": \"#C8D4E3\"}, \"line\": {\"color\": \"white\"}}, \"type\": \"table\"}]}, \"layout\": {\"annotationdefaults\": {\"arrowcolor\": \"#2a3f5f\", \"arrowhead\": 0, \"arrowwidth\": 1}, \"coloraxis\": {\"colorbar\": {\"outlinewidth\": 0, \"ticks\": \"\"}}, \"colorscale\": {\"diverging\": [[0, \"#8e0152\"], [0.1, \"#c51b7d\"], [0.2, \"#de77ae\"], [0.3, \"#f1b6da\"], [0.4, \"#fde0ef\"], [0.5, \"#f7f7f7\"], [0.6, \"#e6f5d0\"], [0.7, \"#b8e186\"], [0.8, \"#7fbc41\"], [0.9, \"#4d9221\"], [1, \"#276419\"]], \"sequential\": [[0.0, \"#0d0887\"], [0.1111111111111111, \"#46039f\"], [0.2222222222222222, \"#7201a8\"], [0.3333333333333333, \"#9c179e\"], [0.4444444444444444, \"#bd3786\"], [0.5555555555555556, \"#d8576b\"], [0.6666666666666666, \"#ed7953\"], [0.7777777777777778, \"#fb9f3a\"], [0.8888888888888888, \"#fdca26\"], [1.0, \"#f0f921\"]], \"sequentialminus\": [[0.0, \"#0d0887\"], [0.1111111111111111, \"#46039f\"], [0.2222222222222222, \"#7201a8\"], [0.3333333333333333, \"#9c179e\"], [0.4444444444444444, \"#bd3786\"], [0.5555555555555556, \"#d8576b\"], [0.6666666666666666, \"#ed7953\"], [0.7777777777777778, \"#fb9f3a\"], [0.8888888888888888, \"#fdca26\"], [1.0, \"#f0f921\"]]}, \"colorway\": [\"#636efa\", \"#EF553B\", \"#00cc96\", \"#ab63fa\", \"#FFA15A\", \"#19d3f3\", \"#FF6692\", \"#B6E880\", \"#FF97FF\", \"#FECB52\"], \"font\": {\"color\": \"#2a3f5f\"}, \"geo\": {\"bgcolor\": \"white\", \"lakecolor\": \"white\", \"landcolor\": \"#E5ECF6\", \"showlakes\": true, \"showland\": true, \"subunitcolor\": \"white\"}, \"hoverlabel\": {\"align\": \"left\"}, \"hovermode\": \"closest\", \"mapbox\": {\"style\": \"light\"}, \"paper_bgcolor\": \"white\", \"plot_bgcolor\": \"#E5ECF6\", \"polar\": {\"angularaxis\": {\"gridcolor\": \"white\", \"linecolor\": \"white\", \"ticks\": \"\"}, \"bgcolor\": \"#E5ECF6\", \"radialaxis\": {\"gridcolor\": \"white\", \"linecolor\": \"white\", \"ticks\": \"\"}}, \"scene\": {\"xaxis\": {\"backgroundcolor\": \"#E5ECF6\", \"gridcolor\": \"white\", \"gridwidth\": 2, \"linecolor\": \"white\", \"showbackground\": true, \"ticks\": \"\", \"zerolinecolor\": \"white\"}, \"yaxis\": {\"backgroundcolor\": \"#E5ECF6\", \"gridcolor\": \"white\", \"gridwidth\": 2, \"linecolor\": \"white\", \"showbackground\": true, \"ticks\": \"\", \"zerolinecolor\": \"white\"}, \"zaxis\": {\"backgroundcolor\": \"#E5ECF6\", \"gridcolor\": \"white\", \"gridwidth\": 2, \"linecolor\": \"white\", \"showbackground\": true, \"ticks\": \"\", \"zerolinecolor\": \"white\"}}, \"shapedefaults\": {\"line\": {\"color\": \"#2a3f5f\"}}, \"ternary\": {\"aaxis\": {\"gridcolor\": \"white\", \"linecolor\": \"white\", \"ticks\": \"\"}, \"baxis\": {\"gridcolor\": \"white\", \"linecolor\": \"white\", \"ticks\": \"\"}, \"bgcolor\": \"#E5ECF6\", \"caxis\": {\"gridcolor\": \"white\", \"linecolor\": \"white\", \"ticks\": \"\"}}, \"title\": {\"x\": 0.05}, \"xaxis\": {\"automargin\": true, \"gridcolor\": \"white\", \"linecolor\": \"white\", \"ticks\": \"\", \"title\": {\"standoff\": 15}, \"zerolinecolor\": \"white\", \"zerolinewidth\": 2}, \"yaxis\": {\"automargin\": true, \"gridcolor\": \"white\", \"linecolor\": \"white\", \"ticks\": \"\", \"title\": {\"standoff\": 15}, \"zerolinecolor\": \"white\", \"zerolinewidth\": 2}}}},\n",
              "                        {\"responsive\": true}\n",
              "                    ).then(function(){\n",
              "                            \n",
              "var gd = document.getElementById('798d0867-c819-4477-8642-4cf3252b6265');\n",
              "var x = new MutationObserver(function (mutations, observer) {{\n",
              "        var display = window.getComputedStyle(gd).display;\n",
              "        if (!display || display === 'none') {{\n",
              "            console.log([gd, 'removed!']);\n",
              "            Plotly.purge(gd);\n",
              "            observer.disconnect();\n",
              "        }}\n",
              "}});\n",
              "\n",
              "// Listen for the removal of the full notebook cells\n",
              "var notebookContainer = gd.closest('#notebook-container');\n",
              "if (notebookContainer) {{\n",
              "    x.observe(notebookContainer, {childList: true});\n",
              "}}\n",
              "\n",
              "// Listen for the clearing of the current output cell\n",
              "var outputEl = gd.closest('.output');\n",
              "if (outputEl) {{\n",
              "    x.observe(outputEl, {childList: true});\n",
              "}}\n",
              "\n",
              "                        })\n",
              "                };\n",
              "                \n",
              "            </script>\n",
              "        </div>\n",
              "</body>\n",
              "</html>"
            ]
          },
          "metadata": {}
        }
      ]
    },
    {
      "cell_type": "code",
      "metadata": {
        "id": "aNvKYEhEKW-9"
      },
      "source": [
        "def save_dataframe(df): \n",
        "    \"\"\" \n",
        "    Utility function to save df in pickle.\n",
        "    \"\"\"\n",
        "    # If you alter this, make sure it works in tandem with load_dataframe\n",
        "    with open('part2_gridsearch_df.pickle', 'wb') as target:\n",
        "        pickle.dump(df, target)\n",
        "    print(\"\\nSaved df in part2_gridsearch_df.pickle\\n\")\n",
        "\n",
        "def load_dataframe(): \n",
        "    \"\"\" \n",
        "    Utility function to load the dataframe.\n",
        "    \"\"\"\n",
        "    # If you alter this, make sure it works in tandem with save_dataframe\n",
        "    with open('part2_gridsearch_df.pickle', 'rb') as target:\n",
        "        trained_model = pickle.load(target)\n",
        "    print(\"\\nLoaded model in part2_gridsearch_df.pickle\\n\")\n",
        "    return trained_model"
      ],
      "execution_count": null,
      "outputs": []
    },
    {
      "cell_type": "markdown",
      "metadata": {
        "id": "p9e8NR60WyjY"
      },
      "source": [
        "# Pre-Defined Functions"
      ]
    },
    {
      "cell_type": "code",
      "metadata": {
        "id": "Byo43q5sX9OE"
      },
      "source": [
        "def save_regressor(trained_model): \n",
        "    \"\"\" \n",
        "    Utility function to save the trained regressor model in part2_model.pickle.\n",
        "    \"\"\"\n",
        "    # If you alter this, make sure it works in tandem with load_regressor\n",
        "    with open('part2_model.pickle', 'wb') as target:\n",
        "        pickle.dump(trained_model, target)\n",
        "    print(\"\\nSaved model in part2_model.pickle\\n\")\n",
        "\n",
        "\n",
        "def load_regressor(): \n",
        "    \"\"\" \n",
        "    Utility function to load the trained regressor model in part2_model.pickle.\n",
        "    \"\"\"\n",
        "    # If you alter this, make sure it works in tandem with save_regressor\n",
        "    with open('part2_model.pickle', 'rb') as target:\n",
        "        trained_model = pickle.load(target)\n",
        "    print(\"\\nLoaded model in part2_model.pickle\\n\")\n",
        "    return trained_model\n",
        "\n",
        "\n",
        "\n",
        "def RegressorHyperParameterSearch(): \n",
        "    # Ensure to add whatever inputs you deem necessary to this function\n",
        "    \"\"\"\n",
        "    Performs a hyper-parameter for fine-tuning the regressor implemented \n",
        "    in the Regressor class.\n",
        "\n",
        "    Arguments:\n",
        "        Add whatever inputs you need.\n",
        "        \n",
        "    Returns:\n",
        "        The function should return your optimised hyper-parameters. \n",
        "\n",
        "    \"\"\"\n",
        "\n",
        "    #######################################################################\n",
        "    #                       ** START OF YOUR CODE **\n",
        "    #######################################################################\n",
        "\n",
        "    return  # Return the chosen hyper parameters\n",
        "\n",
        "    #######################################################################\n",
        "    #                       ** END OF YOUR CODE **\n",
        "    #######################################################################\n",
        "\n",
        "\n",
        "\n",
        "def example_main():\n",
        "\n",
        "    output_label = \"median_house_value\"\n",
        "\n",
        "    # Use pandas to read CSV data as it contains various object types\n",
        "    # Feel free to use another CSV reader tool\n",
        "    # But remember that LabTS tests take Pandas Dataframe as inputs\n",
        "    data = pd.read_csv(\"housing.csv\") \n",
        "\n",
        "    # Spliting input and output\n",
        "    x_train = data.loc[:, data.columns != output_label]\n",
        "    y_train = data.loc[:, [output_label]]\n",
        "\n",
        "    # Training\n",
        "    # This example trains on the whole available dataset. \n",
        "    # You probably want to separate some held-out data \n",
        "    # to make sure the model isn't overfitting\n",
        "    regressor = Regressor(x_train, nb_epoch = 500)\n",
        "    regressor.fit(x_train, y_train)\n",
        "    save_regressor(regressor)\n",
        "\n",
        "    # Error\n",
        "    error = regressor.score(x_train, y_train)\n",
        "    print(\"\\nRegressor error: {}\\n\".format(error))\n",
        "\n",
        "\n",
        "if __name__ == \"__main__\":\n",
        "    example_main()"
      ],
      "execution_count": null,
      "outputs": []
    },
    {
      "cell_type": "code",
      "metadata": {
        "colab": {
          "base_uri": "https://localhost:8080/",
          "height": 16
        },
        "id": "2Div6PV_2jGg",
        "outputId": "7db30707-88a2-4f2b-fb33-c0eba70c2bea"
      },
      "source": [
        "from google.colab import files\n",
        "\n",
        "files.download(\"part2_model.pickle\")"
      ],
      "execution_count": null,
      "outputs": [
        {
          "output_type": "display_data",
          "data": {
            "application/javascript": [
              "\n",
              "    async function download(id, filename, size) {\n",
              "      if (!google.colab.kernel.accessAllowed) {\n",
              "        return;\n",
              "      }\n",
              "      const div = document.createElement('div');\n",
              "      const label = document.createElement('label');\n",
              "      label.textContent = `Downloading \"${filename}\": `;\n",
              "      div.appendChild(label);\n",
              "      const progress = document.createElement('progress');\n",
              "      progress.max = size;\n",
              "      div.appendChild(progress);\n",
              "      document.body.appendChild(div);\n",
              "\n",
              "      const buffers = [];\n",
              "      let downloaded = 0;\n",
              "\n",
              "      const channel = await google.colab.kernel.comms.open(id);\n",
              "      // Send a message to notify the kernel that we're ready.\n",
              "      channel.send({})\n",
              "\n",
              "      for await (const message of channel.messages) {\n",
              "        // Send a message to notify the kernel that we're ready.\n",
              "        channel.send({})\n",
              "        if (message.buffers) {\n",
              "          for (const buffer of message.buffers) {\n",
              "            buffers.push(buffer);\n",
              "            downloaded += buffer.byteLength;\n",
              "            progress.value = downloaded;\n",
              "          }\n",
              "        }\n",
              "      }\n",
              "      const blob = new Blob(buffers, {type: 'application/binary'});\n",
              "      const a = document.createElement('a');\n",
              "      a.href = window.URL.createObjectURL(blob);\n",
              "      a.download = filename;\n",
              "      div.appendChild(a);\n",
              "      a.click();\n",
              "      div.remove();\n",
              "    }\n",
              "  "
            ],
            "text/plain": [
              "<IPython.core.display.Javascript object>"
            ]
          },
          "metadata": {}
        },
        {
          "output_type": "display_data",
          "data": {
            "application/javascript": [
              "download(\"download_6801b79c-0306-4da8-b217-b0d7b5dbefd8\", \"part2_model.pickle\", 3806450)"
            ],
            "text/plain": [
              "<IPython.core.display.Javascript object>"
            ]
          },
          "metadata": {}
        }
      ]
    },
    {
      "cell_type": "markdown",
      "metadata": {
        "id": "7-itgkm9Jj44"
      },
      "source": [
        "# Legacy "
      ]
    },
    {
      "cell_type": "markdown",
      "metadata": {
        "id": "W_MmKhlURdeu"
      },
      "source": [
        "## Encoding Categorical Data"
      ]
    },
    {
      "cell_type": "code",
      "metadata": {
        "id": "Cmzm8-jML9Kk"
      },
      "source": [
        "# # One hot encoding\n",
        "# from sklearn.preprocessing import OneHotEncoder\n",
        "\n",
        "# # Create encoder instance and fit-transform to ocean proximity series.\n",
        "# enc = OneHotEncoder()\n",
        "# X_ = enc.fit_transform(df.ocean_proximity.values.reshape(-1,1)).toarray()\n",
        "\n",
        "# # Create one-hot encoded dataframe for ocean proximity.\n",
        "# cat_names = [name for name in enc.categories_[0]]\n",
        "# df_one_hot = pd.DataFrame(X_, columns = cat_names)\n",
        "# # Store house values.\n",
        "# df_y = df.pop(\"median_house_value\")\n",
        "# # Concatenate all dataframes back together.\n",
        "# df = pd.concat([df, df_one_hot, df_y], axis=1)\n",
        "# # Drop original column\n",
        "# df.drop(\"ocean_proximity\", axis=1, inplace=True)"
      ],
      "execution_count": null,
      "outputs": []
    },
    {
      "cell_type": "code",
      "metadata": {
        "id": "IUV9H8OObe1c"
      },
      "source": [
        "# df"
      ],
      "execution_count": null,
      "outputs": []
    },
    {
      "cell_type": "code",
      "metadata": {
        "id": "ss_EXa7xPkzL"
      },
      "source": [
        "# from statsmodels.stats.outliers_influence import variance_inflation_factor\n",
        "# # VIF testing.\n",
        "# cat_names = [name for name in enc.categories_[0]]\n",
        "# test_df = df[cat_names]\n",
        "# vif_data = pd.DataFrame()\n",
        "# vif_data[\"feature\"] = test_df.columns\n",
        "# vif_data[\"VIF\"] = [variance_inflation_factor(test_df.values, i) for i in range(len(test_df.columns))]\n",
        "# assert vif_data[\"VIF\"].all() == True"
      ],
      "execution_count": null,
      "outputs": []
    },
    {
      "cell_type": "markdown",
      "metadata": {
        "id": "Lcz7CF6-LOsI"
      },
      "source": [
        "## Model"
      ]
    },
    {
      "cell_type": "code",
      "metadata": {
        "id": "NOKgF1aqoRq1"
      },
      "source": [
        "# class Regressor(nn.Module):\n",
        "\n",
        "#     def __init__(self, x, nb_epoch = 1000):\n",
        "#         # You can add any input parameters you need\n",
        "#         # Remember to set them with a default value for LabTS tests\n",
        "#         \"\"\" \n",
        "#         Initialise the model.\n",
        "          \n",
        "#         Arguments:\n",
        "#             - x {pd.DataFrame} -- Raw input data of shape \n",
        "#                 (batch_size, input_size), used to compute the size \n",
        "#                 of the network.\n",
        "#             - nb_epoch {int} -- number of epoch to train the network.\n",
        "\n",
        "#         \"\"\"\n",
        "\n",
        "#         #######################################################################\n",
        "#         #                       ** START OF YOUR CODE **\n",
        "#         #######################################################################\n",
        "#         # Super class constructor.\n",
        "#         super().__init__()\n",
        "#         # Replace this code with your own\n",
        "#         X, _ = self._preprocessor(x, training = True)\n",
        "#         self.input_size = X.shape[1]\n",
        "#         self.output_size = 1\n",
        "#         self.nb_epoch = nb_epoch \n",
        "\n",
        "#         self._sequential = nn.Sequential(\n",
        "#             nn.Linear(self.input_size, 1500),\n",
        "#             nn.ReLU(),\n",
        "#             nn.Linear(1500, 500),\n",
        "#             nn.ReLU(),\n",
        "#             nn.Linear(500, 300),\n",
        "#             nn.ReLU(),\n",
        "#             nn.Linear(300, self.output_size)\n",
        "#         )\n",
        "\n",
        "#         #######################################################################\n",
        "#         #                       ** END OF YOUR CODE **\n",
        "#         #######################################################################\n",
        "\n",
        "\n",
        "\n",
        "#     def forward(self, x):\n",
        "\n",
        "#       return self._sequential(x)\n",
        "    \n",
        "\n",
        "\n",
        "#     def _preprocessor(self, x, y = None, training = False):\n",
        "#         \"\"\" \n",
        "#         Preprocess input of the network.\n",
        "          \n",
        "#         Arguments:\n",
        "#             - x {pd.DataFrame} -- Raw input array of shape \n",
        "#                 (batch_size, input_size).\n",
        "#             - y {pd.DataFrame} -- Raw target array of shape (batch_size, 1).\n",
        "#             - training {boolean} -- Boolean indicating if we are training or \n",
        "#                 testing the model.\n",
        "\n",
        "#         Returns:\n",
        "#             - {torch.tensor} or {numpy.ndarray} -- Preprocessed input array of\n",
        "#               size (batch_size, input_size).\n",
        "#             - {torch.tensor} or {numpy.ndarray} -- Preprocessed target array of\n",
        "#               size (batch_size, 1).\n",
        "\n",
        "#         \"\"\"\n",
        "\n",
        "#         #######################################################################\n",
        "#         #                       ** START OF YOUR CODE **\n",
        "#         #######################################################################\n",
        "#         # NaNs.\n",
        "#         x[\"total_bedrooms\"].fillna((x[\"total_bedrooms\"].mean()), inplace=True)\n",
        "\n",
        "#         # Categorical one-hot encoding.\n",
        "#         # x = self._one_hot(x)\n",
        "#         if \"ocean_proximity\" in x.columns:\n",
        "#           x.drop(\"ocean_proximity\",axis=1,inplace=True)\n",
        "\n",
        "#         # Scaler\n",
        "#         if training:\n",
        "#           # Create scaler objects.\n",
        "#           self.x_scaler = MinMaxScaler()\n",
        "#           # Scale and store transformation.\n",
        "#           x = self.x_scaler.fit_transform(x)\n",
        "#           if y is not None:\n",
        "#             self.y_scaler = MinMaxScaler()\n",
        "#             y = self.y_scaler.fit_transform(y.to_numpy().reshape(-1,1))\n",
        "#         else:\n",
        "#           # Scale only.\n",
        "#           x = self.x_scaler.transform(x)\n",
        "#           # For scoring function.\n",
        "#           if y is not None:\n",
        "#             y = self.y_scaler.transform(y.to_numpy().reshape(-1,1))\n",
        "\n",
        "#         # Tensor conversion.\n",
        "#         x = torch.tensor(x, dtype=torch.float)\n",
        "#         if y is not None:\n",
        "#           y = torch.tensor(y, dtype=torch.float)\n",
        "\n",
        "#         # Return preprocessed x and y, return None for y if it was None\n",
        "#         return x, (y if y is not None else None)\n",
        "\n",
        "#         #######################################################################\n",
        "#         #                       ** END OF YOUR CODE **\n",
        "#         #######################################################################\n",
        "\n",
        "\n",
        "#     def _one_hot(self, x):\n",
        "#       \"\"\" \n",
        "#         One-hot encode categorical data within passed dataframe.\n",
        "          \n",
        "#         Arguments:\n",
        "#             - x {pd.DataFrame} -- Raw input array of shape \n",
        "#                 (batch_size, input_size).\n",
        "\n",
        "#         Returns:\n",
        "#             - x {pd.DataFrame} -- Input array of shape \n",
        "#                 (batch_size, input_size + num_of_new_categories).\n",
        "#       \"\"\"\n",
        "#       # Create encoder instance and fit-transform to ocean proximity series.\n",
        "#       enc = OneHotEncoder()\n",
        "#       X_ = enc.fit_transform(x.ocean_proximity.values.reshape(-1,1)).toarray()\n",
        "#       # Create one-hot encoded dataframe for ocean proximity.\n",
        "#       cat_names = [name for name in enc.categories_[0]]\n",
        "#       x_one_hot = pd.DataFrame(X_, columns = cat_names)\n",
        "#       # Reset dataframe indexs.\n",
        "#       x.reset_index(drop=True, inplace=True)\n",
        "#       x_one_hot.reset_index(drop=True, inplace=True)\n",
        "#       # Concatenate all dataframes back together.\n",
        "#       x = pd.concat([x, x_one_hot], axis=1)\n",
        "#       # Drop original column\n",
        "#       x.drop(\"ocean_proximity\", axis=1, inplace=True)\n",
        "#       return x\n",
        "\n",
        "\n",
        "        \n",
        "#     def fit(self, x, y, lr=1e-3, opt_func=torch.optim.Adam, verbose=False):\n",
        "#         \"\"\"\n",
        "#         Regressor training function\n",
        "\n",
        "#         Arguments:\n",
        "#             - x {pd.DataFrame} -- Raw input array of shape \n",
        "#                 (batch_size, input_size).\n",
        "#             - y {pd.DataFrame} -- Raw output array of shape (batch_size, 1).\n",
        "\n",
        "#         Returns:\n",
        "#             self {Regressor} -- Trained model.\n",
        "\n",
        "#         \"\"\"\n",
        "\n",
        "#         #######################################################################\n",
        "#         #                       ** START OF YOUR CODE **\n",
        "#         #######################################################################\n",
        "        \n",
        "#         X, y = self._preprocessor(x, y = y, training = True) # Do not forget\n",
        "#         # criterion = nn.MSELoss(reduction=\"sum\")\n",
        "#         criterion = nn.MSELoss()\n",
        "#         optimizer = opt_func(self.parameters(), lr)\n",
        "        \n",
        "#         # Early stopping counter.\n",
        "#         early_stop = 0\n",
        "#         patience = 5\n",
        "\n",
        "#         self.history = []\n",
        "#         for epoch in range(self.nb_epoch):\n",
        "#           # Reset gradients\n",
        "#           optimizer.zero_grad()\n",
        "#           # Forward\n",
        "#           y_hat = self.forward(X)\n",
        "#           # Loss\n",
        "#           loss = criterion(y_hat, y)\n",
        "#           # End training \n",
        "#           if torch.isnan(loss) or torch.isinf(loss):\n",
        "#             print(\"Training ended: loss is Nan or Inf.\")\n",
        "#             print(\"Epoch: {}, Loss: {}\".format(epoch,loss))\n",
        "#             break\n",
        "#           # Backward\n",
        "#           loss.backward()\n",
        "#           # Update Parameters\n",
        "#           optimizer.step()\n",
        "\n",
        "#           # Display\n",
        "#           if verbose and epoch % 10 == 0:\n",
        "#             print(\"Epoch: {}, Loss: {}\".format(epoch,loss))\n",
        "#           self.history.append(loss)\n",
        "\n",
        "#           # If loss is increasing after epoch:\n",
        "#           if loss > self.history[-1]:\n",
        "#             early_stop += 1\n",
        "#           # Reset\n",
        "#           else:\n",
        "#             early_stop = 0\n",
        "#           # If 5 epochs pass without loss decreasing then break training loop.\n",
        "#           if early_stop == patience:\n",
        "#             print(\"Training ended, early stopping at:\")\n",
        "#             print(\"Epoch: {}, Loss: {}\".format(epoch,loss))\n",
        "#             break\n",
        "\n",
        "#         return self\n",
        "\n",
        "\n",
        "#         #######################################################################\n",
        "#         #                       ** END OF YOUR CODE **\n",
        "#         #######################################################################\n",
        "\n",
        "            \n",
        "#     def predict(self, x):\n",
        "#         \"\"\"\n",
        "#         Ouput the value corresponding to an input x.\n",
        "\n",
        "#         Arguments:\n",
        "#             x {pd.DataFrame} -- Raw input array of shape \n",
        "#                 (batch_size, input_size).\n",
        "\n",
        "#         Returns:\n",
        "#             {np.darray} -- Predicted value for the given input (batch_size, 1).\n",
        "\n",
        "#         \"\"\"\n",
        "\n",
        "#         #######################################################################\n",
        "#         #                       ** START OF YOUR CODE **\n",
        "#         #######################################################################\n",
        "\n",
        "#         # Preprocess test data.\n",
        "#         X, _ = self._preprocessor(x, training = False) # Do not forget\n",
        "        \n",
        "#         # Predict.\n",
        "#         y_pred = self.forward(X)\n",
        "#         # Detach Tensor.\n",
        "#         y_pred = y_pred.detach().numpy()\n",
        "#         # Inverse Scale.\n",
        "#         y_pred = self.y_scaler.inverse_transform(y_pred)\n",
        "#         return y_pred\n",
        "\n",
        "#         #######################################################################\n",
        "#         #                       ** END OF YOUR CODE **\n",
        "#         #######################################################################\n",
        "\n",
        "#     def score(self, x, y):\n",
        "#         \"\"\"\n",
        "#         Function to evaluate the model accuracy on a validation dataset.\n",
        "\n",
        "#         Arguments:\n",
        "#             - x {pd.DataFrame} -- Raw input array of shape \n",
        "#                 (batch_size, input_size).\n",
        "#             - y {pd.DataFrame} -- Raw ouput array of shape (batch_size, 1).\n",
        "\n",
        "#         Returns:\n",
        "#             {float} -- Quantification of the efficiency of the model.\n",
        "\n",
        "#         \"\"\"\n",
        "\n",
        "#         #######################################################################\n",
        "#         #                       ** START OF YOUR CODE **\n",
        "#         #######################################################################\n",
        "\n",
        "#         y_pred = self.predict(x)\n",
        "\n",
        "#         rmse = mean_squared_error(y, y_pred, squared=False)\n",
        "\n",
        "#         return rmse\n",
        "\n",
        "#         #######################################################################\n",
        "#         #                       ** END OF YOUR CODE **\n",
        "#         #######################################################################\n",
        "\n",
        "\n",
        "#     def get_model(self):\n",
        "#       return self._sequential"
      ],
      "execution_count": null,
      "outputs": []
    },
    {
      "cell_type": "code",
      "metadata": {
        "id": "Ullq4qiqxkqB"
      },
      "source": [
        "# columns=[\"optimizer\", \"learning_rate\", \"epochs\", \"batch_size\", \"rmse\", \"model\"]\n",
        "# df_hyper_param = pd.DataFrame(columns=columns)\n",
        "\n",
        "# row_indx = 0\n",
        "# for opt in [torch.optim.Adam, torch.optim.SGD, torch.optim.RMSprop]:\n",
        "#   print(opt)\n",
        "#   for lr in [0.5e-2, 1e-3, 0.5e-3, 1e-4, 0.5e-4]:\n",
        "#     print(\"   lr:{}\".format(lr))\n",
        "#     for epoch in [1,3,5]:\n",
        "#       print(\"      epoch:{}\".format(epoch))\n",
        "#       for mini_batch in [32,64,128,512,1024,2048,None]:\n",
        "#         print(\"         mini_batch:{}\".format(mini_batch))\n",
        "        \n",
        "#         # Split data.\n",
        "#         X_train, X_test, y_train, y_test = train_test_split(X,y)\n",
        "\n",
        "#         # Instance, fit, and score regressor model.\n",
        "#         regressor = Regressor(X_train, nb_epoch=epoch)\n",
        "#         regressor.fit(X_train,y_train, lr=lr, opt_func=opt, mini_batch=mini_batch)\n",
        "#         rmse = regressor.score(X_test, y_test)\n",
        "\n",
        "#         # Create hyperparameter dataframe.\n",
        "#         df_hyper_param.loc[row_indx] = [\n",
        "#                                         str(opt).split(\".\")[-1], # Get optimizer name.\n",
        "#                                         lr,\n",
        "#                                         epoch,\n",
        "#                                         mini_batch if mini_batch is not None else np.inf,\n",
        "#                                         rmse,\n",
        "#                                         regressor\n",
        "#         ]\n",
        "\n",
        "#         # Incremete row index.\n",
        "#         row_indx+=1"
      ],
      "execution_count": null,
      "outputs": []
    }
  ]
}